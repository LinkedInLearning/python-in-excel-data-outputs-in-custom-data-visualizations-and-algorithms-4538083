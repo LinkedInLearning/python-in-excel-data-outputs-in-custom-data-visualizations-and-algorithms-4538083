{
  "cells": [
    {
      "cell_type": "markdown",
      "metadata": {},
      "source": [
        "Import Python libraries first"
      ]
    },
    {
      "cell_type": "code",
      "execution_count": null,
      "metadata": {
        "colab": {
          "base_uri": "https://localhost:8080/"
        },
        "id": "bDHK9hSMDAuz",
        "outputId": "05edfbd2-d714-4ab1-e684-e8325cac04fd"
      },
      "outputs": [],
      "source": [
        "%pip install pandas\n",
        "%pip install numpy\n",
        "%pip install scikit-learn"
      ]
    },
    {
      "cell_type": "code",
      "execution_count": null,
      "metadata": {
        "id": "Bit6ZDFKDAkS"
      },
      "outputs": [],
      "source": [
        "import pandas as pd\n",
        "import numpy as np\n",
        "from sklearn.cluster import DBSCAN"
      ]
    },
    {
      "cell_type": "markdown",
      "metadata": {},
      "source": [
        "ETL framework"
      ]
    },
    {
      "cell_type": "code",
      "execution_count": null,
      "metadata": {
        "id": "gLwcouobDKCB"
      },
      "outputs": [],
      "source": [
        "df = pd.read_csv(\"https://www1.ncdc.noaa.gov/pub/data/ghcn/daily/by_station/USW00023190.csv.gz\",\n",
        "                 compression = 'gzip',\n",
        "                 names = ['station','date','datatype','value','U1','U2','U3','U4'],\n",
        "                 low_memory = False)\n",
        "\n",
        "df[\"date\"] = pd.to_datetime(df[\"date\"].astype(str))\n",
        "df = df.loc[(df[\"datatype\"].isin([\"TMIN\",\"TMAX\",\"PRCP\"])) & (df[\"date\"] >= \"1970-01-01\"), [\"date\", \"datatype\", \"value\"]]\n",
        "\n",
        "df[\"value\"] = np.where(np.array(df[\"datatype\"]) == \"PRCP\", np.round(np.array(df[\"value\"])/100/2.54, 2), np.round(np.array(df[\"value\"])/10 * 1.8 + 32, 0))\n",
        "df = df.pivot(index = \"date\", columns = \"datatype\", values = \"value\").dropna().rename_axis(None, axis = 1).reset_index(inplace = False)\n",
        "\n",
        "df[\"TAVG\"] = (df[\"TMIN\"] + df[\"TMAX\"]) / 2\n",
        "df = df.rename(columns = {\"date\": \"Date\", \"TMAX\": \"High Temperature\", \"TMIN\": \"Low Temperature\", \"TAVG\": \"Average Temperature\", \"PRCP\": \"Rainfall\"})\n",
        "df = df.tail(1000) # to match with Objects in Excel"
      ]
    },
    {
      "cell_type": "markdown",
      "metadata": {},
      "source": [
        "Store Average Temperature in NumPy array object"
      ]
    },
    {
      "cell_type": "code",
      "execution_count": null,
      "metadata": {
        "id": "djea-HOvDLSE"
      },
      "outputs": [],
      "source": [
        "X = np.array(df[\"Average Temperature\"]).reshape(-1,1)\n",
        "print(X)"
      ]
    },
    {
      "cell_type": "markdown",
      "metadata": {},
      "source": [
        "Run anomaly detection algorithm by determining points outside of these clusters"
      ]
    },
    {
      "cell_type": "code",
      "execution_count": null,
      "metadata": {
        "id": "_VTdxkHhDQ8L"
      },
      "outputs": [],
      "source": [
        "clusters = DBSCAN(eps = 2, min_samples = 14).fit_predict(X)\n",
        "print(clusters)"
      ]
    },
    {
      "cell_type": "markdown",
      "metadata": {},
      "source": [
        "Check object type for cluster output"
      ]
    },
    {
      "cell_type": "code",
      "execution_count": null,
      "metadata": {},
      "outputs": [],
      "source": [
        "type(clusters)"
      ]
    },
    {
      "cell_type": "markdown",
      "metadata": {},
      "source": [
        "Not an anomaly: 0"
      ]
    },
    {
      "cell_type": "code",
      "execution_count": null,
      "metadata": {},
      "outputs": [],
      "source": [
        "np.max(clusters)"
      ]
    },
    {
      "cell_type": "markdown",
      "metadata": {},
      "source": [
        "Anomaly: -1"
      ]
    },
    {
      "cell_type": "code",
      "execution_count": null,
      "metadata": {},
      "outputs": [],
      "source": [
        "np.min(clusters)"
      ]
    },
    {
      "cell_type": "markdown",
      "metadata": {},
      "source": [
        "Add new column to flag anomalies"
      ]
    },
    {
      "cell_type": "code",
      "execution_count": null,
      "metadata": {
        "colab": {
          "base_uri": "https://localhost:8080/",
          "height": 206
        },
        "id": "XuUIH4C7C52b",
        "outputId": "6d460077-84b9-4f23-aba4-880ca759fe4a"
      },
      "outputs": [],
      "source": [
        "df = df.assign(Anomaly = clusters)\n",
        "df.tail()"
      ]
    }
  ],
  "metadata": {
    "colab": {
      "provenance": []
    },
    "kernelspec": {
      "display_name": "Python 3",
      "name": "python3"
    },
    "language_info": {
      "codemirror_mode": {
        "name": "ipython",
        "version": 3
      },
      "file_extension": ".py",
      "mimetype": "text/x-python",
      "name": "python",
      "nbconvert_exporter": "python",
      "pygments_lexer": "ipython3",
      "version": "3.10.12"
    }
  },
  "nbformat": 4,
  "nbformat_minor": 0
}
