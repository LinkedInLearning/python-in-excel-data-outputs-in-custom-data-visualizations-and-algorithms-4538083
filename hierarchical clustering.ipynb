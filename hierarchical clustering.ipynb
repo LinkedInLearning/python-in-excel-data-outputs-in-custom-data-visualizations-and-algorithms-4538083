{
  "cells": [
    {
      "cell_type": "markdown",
      "metadata": {},
      "source": [
        "Import Python libraries first"
      ]
    },
    {
      "cell_type": "code",
      "execution_count": 1,
      "metadata": {
        "id": "3OldQDeJLSPo"
      },
      "outputs": [
        {
          "name": "stdout",
          "output_type": "stream",
          "text": [
            "Defaulting to user installation because normal site-packages is not writeable\n",
            "Requirement already satisfied: pandas in /home/vscode/.local/lib/python3.10/site-packages (2.2.2)\n",
            "Requirement already satisfied: numpy>=1.22.4 in /home/vscode/.local/lib/python3.10/site-packages (from pandas) (1.26.4)\n",
            "Requirement already satisfied: pytz>=2020.1 in /home/vscode/.local/lib/python3.10/site-packages (from pandas) (2024.1)\n",
            "Requirement already satisfied: python-dateutil>=2.8.2 in /home/vscode/.local/lib/python3.10/site-packages (from pandas) (2.9.0.post0)\n",
            "Requirement already satisfied: tzdata>=2022.7 in /home/vscode/.local/lib/python3.10/site-packages (from pandas) (2024.1)\n",
            "Requirement already satisfied: six>=1.5 in /home/vscode/.local/lib/python3.10/site-packages (from python-dateutil>=2.8.2->pandas) (1.16.0)\n",
            "\n",
            "\u001b[1m[\u001b[0m\u001b[34;49mnotice\u001b[0m\u001b[1;39;49m]\u001b[0m\u001b[39;49m A new release of pip is available: \u001b[0m\u001b[31;49m23.0.1\u001b[0m\u001b[39;49m -> \u001b[0m\u001b[32;49m24.0\u001b[0m\n",
            "\u001b[1m[\u001b[0m\u001b[34;49mnotice\u001b[0m\u001b[1;39;49m]\u001b[0m\u001b[39;49m To update, run: \u001b[0m\u001b[32;49mpip install --upgrade pip\u001b[0m\n",
            "Note: you may need to restart the kernel to use updated packages.\n",
            "Defaulting to user installation because normal site-packages is not writeable\n",
            "Requirement already satisfied: scipy in /home/vscode/.local/lib/python3.10/site-packages (1.13.0)\n",
            "Requirement already satisfied: numpy<2.3,>=1.22.4 in /home/vscode/.local/lib/python3.10/site-packages (from scipy) (1.26.4)\n",
            "\n",
            "\u001b[1m[\u001b[0m\u001b[34;49mnotice\u001b[0m\u001b[1;39;49m]\u001b[0m\u001b[39;49m A new release of pip is available: \u001b[0m\u001b[31;49m23.0.1\u001b[0m\u001b[39;49m -> \u001b[0m\u001b[32;49m24.0\u001b[0m\n",
            "\u001b[1m[\u001b[0m\u001b[34;49mnotice\u001b[0m\u001b[1;39;49m]\u001b[0m\u001b[39;49m To update, run: \u001b[0m\u001b[32;49mpip install --upgrade pip\u001b[0m\n",
            "Note: you may need to restart the kernel to use updated packages.\n"
          ]
        }
      ],
      "source": [
        "%pip install pandas\n",
        "%pip install scipy"
      ]
    },
    {
      "cell_type": "code",
      "execution_count": 2,
      "metadata": {
        "id": "hzcf_JzNKdbJ"
      },
      "outputs": [],
      "source": [
        "import pandas as pd\n",
        "from scipy.cluster.hierarchy import linkage"
      ]
    },
    {
      "cell_type": "markdown",
      "metadata": {
        "id": "VwoTi4h9Eyhm"
      },
      "source": [
        "# Create DataFrame object"
      ]
    },
    {
      "cell_type": "markdown",
      "metadata": {},
      "source": [
        "ETL framework to get data"
      ]
    },
    {
      "cell_type": "code",
      "execution_count": 3,
      "metadata": {
        "id": "0TigQVocKhTs"
      },
      "outputs": [
        {
          "data": {
            "text/html": [
              "<div>\n",
              "<style scoped>\n",
              "    .dataframe tbody tr th:only-of-type {\n",
              "        vertical-align: middle;\n",
              "    }\n",
              "\n",
              "    .dataframe tbody tr th {\n",
              "        vertical-align: top;\n",
              "    }\n",
              "\n",
              "    .dataframe thead th {\n",
              "        text-align: right;\n",
              "    }\n",
              "</style>\n",
              "<table border=\"1\" class=\"dataframe\">\n",
              "  <thead>\n",
              "    <tr style=\"text-align: right;\">\n",
              "      <th></th>\n",
              "      <th>High Temperature</th>\n",
              "      <th>Low Temperature</th>\n",
              "      <th>Average Temperature</th>\n",
              "    </tr>\n",
              "    <tr>\n",
              "      <th>Station</th>\n",
              "      <th></th>\n",
              "      <th></th>\n",
              "      <th></th>\n",
              "    </tr>\n",
              "  </thead>\n",
              "  <tbody>\n",
              "    <tr>\n",
              "      <th>Bakersfield</th>\n",
              "      <td>78</td>\n",
              "      <td>53</td>\n",
              "      <td>65.5</td>\n",
              "    </tr>\n",
              "    <tr>\n",
              "      <th>Burbank</th>\n",
              "      <td>77</td>\n",
              "      <td>55</td>\n",
              "      <td>66.0</td>\n",
              "    </tr>\n",
              "    <tr>\n",
              "      <th>Fresno</th>\n",
              "      <td>77</td>\n",
              "      <td>51</td>\n",
              "      <td>64.0</td>\n",
              "    </tr>\n",
              "    <tr>\n",
              "      <th>Long Beach</th>\n",
              "      <td>74</td>\n",
              "      <td>55</td>\n",
              "      <td>64.5</td>\n",
              "    </tr>\n",
              "    <tr>\n",
              "      <th>Los Angeles</th>\n",
              "      <td>70</td>\n",
              "      <td>56</td>\n",
              "      <td>63.0</td>\n",
              "    </tr>\n",
              "    <tr>\n",
              "      <th>Sacramento</th>\n",
              "      <td>74</td>\n",
              "      <td>48</td>\n",
              "      <td>61.0</td>\n",
              "    </tr>\n",
              "    <tr>\n",
              "      <th>San Diego</th>\n",
              "      <td>71</td>\n",
              "      <td>57</td>\n",
              "      <td>64.0</td>\n",
              "    </tr>\n",
              "    <tr>\n",
              "      <th>San Francisco</th>\n",
              "      <td>66</td>\n",
              "      <td>50</td>\n",
              "      <td>58.0</td>\n",
              "    </tr>\n",
              "    <tr>\n",
              "      <th>Santa Barbara</th>\n",
              "      <td>70</td>\n",
              "      <td>49</td>\n",
              "      <td>59.5</td>\n",
              "    </tr>\n",
              "  </tbody>\n",
              "</table>\n",
              "</div>"
            ],
            "text/plain": [
              "               High Temperature  Low Temperature  Average Temperature\n",
              "Station                                                              \n",
              "Bakersfield                  78               53                 65.5\n",
              "Burbank                      77               55                 66.0\n",
              "Fresno                       77               51                 64.0\n",
              "Long Beach                   74               55                 64.5\n",
              "Los Angeles                  70               56                 63.0\n",
              "Sacramento                   74               48                 61.0\n",
              "San Diego                    71               57                 64.0\n",
              "San Francisco                66               50                 58.0\n",
              "Santa Barbara                70               49                 59.5"
            ]
          },
          "execution_count": 3,
          "metadata": {},
          "output_type": "execute_result"
        }
      ],
      "source": [
        "temps = [[\"Bakersfield\", 78,  53, 65.5],\n",
        "        [\"Burbank\", 77, 55, 66],\n",
        "        [\"Fresno\", 77,  51, 64],\n",
        "        [\"Long Beach\", 74,  55, 64.5],\n",
        "        [\"Los Angeles\", 70,  56, 63],\n",
        "        [\"Sacramento\", 74,  48, 61],\n",
        "        [\"San Diego\", 71,  57, 64],\n",
        "        [\"San Francisco\", 66,  50, 58],\n",
        "        [\"Santa Barbara\", 70,  49, 59.5]]\n",
        "df = pd.DataFrame(temps, columns = [\"Station\", \"High Temperature\", \"Low Temperature\", \"Average Temperature\"])\n",
        "df = df.set_index(\"Station\")\n",
        "df.head(10)"
      ]
    },
    {
      "cell_type": "markdown",
      "metadata": {},
      "source": [
        "# Hierarchical clustering"
      ]
    },
    {
      "cell_type": "markdown",
      "metadata": {},
      "source": [
        "## Create list objects for data"
      ]
    },
    {
      "cell_type": "markdown",
      "metadata": {},
      "source": [
        "One dimension"
      ]
    },
    {
      "cell_type": "code",
      "execution_count": 4,
      "metadata": {
        "id": "pBFsmZMqKjkj"
      },
      "outputs": [
        {
          "name": "stdout",
          "output_type": "stream",
          "text": [
            "[(65.5,), (66.0,), (64.0,), (64.5,), (63.0,), (61.0,), (64.0,), (58.0,), (59.5,)]\n"
          ]
        }
      ],
      "source": [
        "data_1d = list(zip(df[\"Average Temperature\"].tolist()))\n",
        "print(data_1d)"
      ]
    },
    {
      "cell_type": "markdown",
      "metadata": {},
      "source": [
        "### Two dimensions"
      ]
    },
    {
      "cell_type": "markdown",
      "metadata": {},
      "source": [
        "Convert pandas Series object from column in DataFrame object into list object"
      ]
    },
    {
      "cell_type": "code",
      "execution_count": 5,
      "metadata": {},
      "outputs": [
        {
          "data": {
            "text/plain": [
              "[53, 55, 51, 55, 56, 48, 57, 50, 49]"
            ]
          },
          "execution_count": 5,
          "metadata": {},
          "output_type": "execute_result"
        }
      ],
      "source": [
        "df[\"Low Temperature\"].tolist()"
      ]
    },
    {
      "cell_type": "code",
      "execution_count": 6,
      "metadata": {},
      "outputs": [
        {
          "data": {
            "text/plain": [
              "[78, 77, 77, 74, 70, 74, 71, 66, 70]"
            ]
          },
          "execution_count": 6,
          "metadata": {},
          "output_type": "execute_result"
        }
      ],
      "source": [
        "df[\"High Temperature\"].tolist()"
      ]
    },
    {
      "cell_type": "markdown",
      "metadata": {},
      "source": [
        "Create zip object as an iterator of tuples to pair items together."
      ]
    },
    {
      "cell_type": "code",
      "execution_count": 7,
      "metadata": {},
      "outputs": [
        {
          "data": {
            "text/plain": [
              "<zip at 0x70fa019f1a80>"
            ]
          },
          "execution_count": 7,
          "metadata": {},
          "output_type": "execute_result"
        }
      ],
      "source": [
        "zip(df[\"Low Temperature\"].tolist(), df[\"High Temperature\"].tolist())"
      ]
    },
    {
      "cell_type": "code",
      "execution_count": 8,
      "metadata": {},
      "outputs": [
        {
          "data": {
            "text/plain": [
              "[(53, 78),\n",
              " (55, 77),\n",
              " (51, 77),\n",
              " (55, 74),\n",
              " (56, 70),\n",
              " (48, 74),\n",
              " (57, 71),\n",
              " (50, 66),\n",
              " (49, 70)]"
            ]
          },
          "execution_count": 8,
          "metadata": {},
          "output_type": "execute_result"
        }
      ],
      "source": [
        "list(zip(df[\"Low Temperature\"].tolist(), df[\"High Temperature\"].tolist()))"
      ]
    },
    {
      "cell_type": "code",
      "execution_count": 9,
      "metadata": {
        "id": "Edk1es3LKl7A"
      },
      "outputs": [
        {
          "name": "stdout",
          "output_type": "stream",
          "text": [
            "[(53, 78), (55, 77), (51, 77), (55, 74), (56, 70), (48, 74), (57, 71), (50, 66), (49, 70)]\n"
          ]
        }
      ],
      "source": [
        "data_2d = list(zip(df[\"Low Temperature\"].tolist(), df[\"High Temperature\"].tolist()))\n",
        "print(data_2d)"
      ]
    },
    {
      "cell_type": "markdown",
      "metadata": {},
      "source": [
        "## Calculate distances"
      ]
    },
    {
      "cell_type": "markdown",
      "metadata": {},
      "source": [
        "One dimension"
      ]
    },
    {
      "cell_type": "code",
      "execution_count": 10,
      "metadata": {
        "colab": {
          "base_uri": "https://localhost:8080/"
        },
        "id": "hdjuWweoHTJJ",
        "outputId": "3f53ee24-a169-4992-9843-9af73971c460"
      },
      "outputs": [
        {
          "name": "stdout",
          "output_type": "stream",
          "text": [
            "[[ 2.          6.          0.          2.        ]\n",
            " [ 0.          1.          0.5         2.        ]\n",
            " [ 3.          9.          0.57735027  3.        ]\n",
            " [ 4.         11.          1.42886902  4.        ]\n",
            " [ 5.          8.          1.5         2.        ]\n",
            " [ 7.         13.          2.59807621  3.        ]\n",
            " [10.         12.          3.06186218  6.        ]\n",
            " [14.         15.         10.          9.        ]]\n"
          ]
        }
      ],
      "source": [
        "distances_1d = linkage(data_1d, method = \"ward\", metric = \"euclidean\")\n",
        "print(distances_1d)"
      ]
    },
    {
      "cell_type": "markdown",
      "metadata": {},
      "source": [
        "Two dimensions"
      ]
    },
    {
      "cell_type": "code",
      "execution_count": 11,
      "metadata": {
        "colab": {
          "base_uri": "https://localhost:8080/"
        },
        "id": "jjGU8vusHNNr",
        "outputId": "7175af6d-1f1e-4908-9c9a-0612099deb9e"
      },
      "outputs": [
        {
          "name": "stdout",
          "output_type": "stream",
          "text": [
            "[[ 4.          6.          1.41421356  2.        ]\n",
            " [ 0.          1.          2.23606798  2.        ]\n",
            " [ 2.         10.          3.51188458  3.        ]\n",
            " [ 5.          8.          4.12310563  2.        ]\n",
            " [ 3.          9.          4.39696865  3.        ]\n",
            " [ 7.         12.          7.14142843  3.        ]\n",
            " [11.         13.         11.10555417  6.        ]\n",
            " [14.         15.         14.2126704   9.        ]]\n"
          ]
        }
      ],
      "source": [
        "distances_2d = linkage(data_2d, method = \"ward\", metric = \"euclidean\")\n",
        "print(distances_2d)"
      ]
    }
  ],
  "metadata": {
    "colab": {
      "provenance": []
    },
    "kernelspec": {
      "display_name": "Python 3",
      "name": "python3"
    },
    "language_info": {
      "codemirror_mode": {
        "name": "ipython",
        "version": 3
      },
      "file_extension": ".py",
      "mimetype": "text/x-python",
      "name": "python",
      "nbconvert_exporter": "python",
      "pygments_lexer": "ipython3",
      "version": "3.10.12"
    }
  },
  "nbformat": 4,
  "nbformat_minor": 0
}
