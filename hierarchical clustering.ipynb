{
  "cells": [
    {
      "cell_type": "markdown",
      "metadata": {},
      "source": [
        "Import Python libraries first"
      ]
    },
    {
      "cell_type": "code",
      "execution_count": null,
      "metadata": {
        "id": "3OldQDeJLSPo"
      },
      "outputs": [],
      "source": [
        "%pip install pandas\n",
        "%pip install scipy\n",
        "%pip install matplotlib\n",
        "%pip install seaborn"
      ]
    },
    {
      "cell_type": "code",
      "execution_count": null,
      "metadata": {
        "id": "hzcf_JzNKdbJ"
      },
      "outputs": [],
      "source": [
        "import pandas as pd\n",
        "from scipy.cluster.hierarchy import linkage"
      ]
    },
    {
      "cell_type": "code",
      "execution_count": null,
      "metadata": {},
      "outputs": [],
      "source": [
        "from scipy.cluster.hierarchy import dendrogram\n",
        "from matplotlib import pyplot as plt\n",
        "import seaborn as sns"
      ]
    },
    {
      "cell_type": "markdown",
      "metadata": {
        "id": "VwoTi4h9Eyhm"
      },
      "source": [
        "# Create DataFrame object"
      ]
    },
    {
      "cell_type": "markdown",
      "metadata": {},
      "source": [
        "ETL framework to get data"
      ]
    },
    {
      "cell_type": "code",
      "execution_count": null,
      "metadata": {
        "id": "0TigQVocKhTs"
      },
      "outputs": [],
      "source": [
        "temps = [[\"Bakersfield\", 78,  53, 65.5],\n",
        "        [\"Burbank\", 77, 55, 66],\n",
        "        [\"Fresno\", 77,  51, 64],\n",
        "        [\"Long Beach\", 74,  55, 64.5],\n",
        "        [\"Los Angeles\", 70,  56, 63],\n",
        "        [\"Sacramento\", 74,  48, 61],\n",
        "        [\"San Diego\", 71,  57, 64],\n",
        "        [\"San Francisco\", 66,  50, 58],\n",
        "        [\"Santa Barbara\", 70,  49, 59.5]]\n",
        "df = pd.DataFrame(temps, columns = [\"Station\", \"High Temperature\", \"Low Temperature\", \"Average Temperature\"])\n",
        "df = df.set_index(\"Station\")\n",
        "df.head(10)"
      ]
    },
    {
      "cell_type": "markdown",
      "metadata": {},
      "source": [
        "# Hierarchical clustering"
      ]
    },
    {
      "cell_type": "markdown",
      "metadata": {},
      "source": [
        "## Create list objects for data"
      ]
    },
    {
      "cell_type": "markdown",
      "metadata": {},
      "source": [
        "One dimension"
      ]
    },
    {
      "cell_type": "code",
      "execution_count": null,
      "metadata": {
        "id": "pBFsmZMqKjkj"
      },
      "outputs": [],
      "source": [
        "data_1d = list(zip(df[\"Average Temperature\"].tolist()))\n",
        "print(data_1d)"
      ]
    },
    {
      "cell_type": "markdown",
      "metadata": {},
      "source": [
        "### Two dimensions"
      ]
    },
    {
      "cell_type": "markdown",
      "metadata": {},
      "source": [
        "Convert pandas Series object from column in DataFrame object into list object"
      ]
    },
    {
      "cell_type": "code",
      "execution_count": null,
      "metadata": {},
      "outputs": [],
      "source": [
        "df[\"Low Temperature\"].tolist()"
      ]
    },
    {
      "cell_type": "code",
      "execution_count": null,
      "metadata": {},
      "outputs": [],
      "source": [
        "df[\"High Temperature\"].tolist()"
      ]
    },
    {
      "cell_type": "markdown",
      "metadata": {},
      "source": [
        "Create zip object as an iterator of tuples to pair items together."
      ]
    },
    {
      "cell_type": "code",
      "execution_count": null,
      "metadata": {},
      "outputs": [],
      "source": [
        "zip(df[\"Low Temperature\"].tolist(), df[\"High Temperature\"].tolist())"
      ]
    },
    {
      "cell_type": "code",
      "execution_count": null,
      "metadata": {},
      "outputs": [],
      "source": [
        "list(zip(df[\"Low Temperature\"].tolist(), df[\"High Temperature\"].tolist()))"
      ]
    },
    {
      "cell_type": "code",
      "execution_count": null,
      "metadata": {
        "id": "Edk1es3LKl7A"
      },
      "outputs": [],
      "source": [
        "data_2d = list(zip(df[\"Low Temperature\"].tolist(), df[\"High Temperature\"].tolist()))\n",
        "print(data_2d)"
      ]
    },
    {
      "cell_type": "markdown",
      "metadata": {},
      "source": [
        "## Calculate distances"
      ]
    },
    {
      "cell_type": "markdown",
      "metadata": {},
      "source": [
        "One dimension"
      ]
    },
    {
      "cell_type": "code",
      "execution_count": null,
      "metadata": {
        "colab": {
          "base_uri": "https://localhost:8080/"
        },
        "id": "hdjuWweoHTJJ",
        "outputId": "3f53ee24-a169-4992-9843-9af73971c460"
      },
      "outputs": [],
      "source": [
        "distances_1d = linkage(data_1d, method = \"ward\", metric = \"euclidean\")\n",
        "print(distances_1d)"
      ]
    },
    {
      "cell_type": "markdown",
      "metadata": {},
      "source": [
        "Two dimensions"
      ]
    },
    {
      "cell_type": "code",
      "execution_count": null,
      "metadata": {
        "colab": {
          "base_uri": "https://localhost:8080/"
        },
        "id": "jjGU8vusHNNr",
        "outputId": "7175af6d-1f1e-4908-9c9a-0612099deb9e"
      },
      "outputs": [],
      "source": [
        "distances_2d = linkage(data_2d, method = \"ward\", metric = \"euclidean\")\n",
        "print(distances_2d)"
      ]
    },
    {
      "cell_type": "markdown",
      "metadata": {},
      "source": [
        "# Data Visualizations"
      ]
    },
    {
      "cell_type": "markdown",
      "metadata": {},
      "source": [
        "Bar charts"
      ]
    },
    {
      "cell_type": "code",
      "execution_count": null,
      "metadata": {},
      "outputs": [],
      "source": [
        "df[\"Average Temperature\"].sort_values().plot.barh()\n",
        "plt.title(\"Average temperatures by California city (degrees Fahrenheit)\")\n",
        "plt.show()"
      ]
    }
  ],
  "metadata": {
    "colab": {
      "provenance": []
    },
    "kernelspec": {
      "display_name": "Python 3",
      "name": "python3"
    },
    "language_info": {
      "codemirror_mode": {
        "name": "ipython",
        "version": 3
      },
      "file_extension": ".py",
      "mimetype": "text/x-python",
      "name": "python",
      "nbconvert_exporter": "python",
      "pygments_lexer": "ipython3",
      "version": "3.10.12"
    }
  },
  "nbformat": 4,
  "nbformat_minor": 0
}
