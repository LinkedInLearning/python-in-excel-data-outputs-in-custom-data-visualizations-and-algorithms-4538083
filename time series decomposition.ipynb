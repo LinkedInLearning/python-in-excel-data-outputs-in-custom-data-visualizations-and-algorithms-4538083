{
  "cells": [
    {
      "cell_type": "markdown",
      "metadata": {
        "id": "nhpKatpo0xy5"
      },
      "source": [
        "Import Python libraries"
      ]
    },
    {
      "cell_type": "code",
      "execution_count": null,
      "metadata": {},
      "outputs": [],
      "source": [
        "%pip install pandas\n",
        "%pip install numpy\n",
        "%pip install matplotlib\n",
        "%pip install statsmodels"
      ]
    },
    {
      "cell_type": "code",
      "execution_count": null,
      "metadata": {
        "id": "QXuuc6M30VU2"
      },
      "outputs": [],
      "source": [
        "import pandas as pd\n",
        "import numpy as np"
      ]
    },
    {
      "cell_type": "code",
      "execution_count": null,
      "metadata": {},
      "outputs": [],
      "source": [
        "from statsmodels.tsa.seasonal import seasonal_decompose\n",
        "from matplotlib import pyplot as plt"
      ]
    },
    {
      "cell_type": "markdown",
      "metadata": {
        "id": "9MPonIk61HRN"
      },
      "source": [
        "# ETL framework"
      ]
    },
    {
      "cell_type": "markdown",
      "metadata": {
        "id": "dsRmvwXs1J-m"
      },
      "source": [
        "## Extract"
      ]
    },
    {
      "cell_type": "markdown",
      "metadata": {
        "id": "TLukDlCg1VLc"
      },
      "source": [
        "NOAA FTP folders for Santa Barbara Airport weather data"
      ]
    },
    {
      "cell_type": "code",
      "execution_count": null,
      "metadata": {
        "id": "D05uyPHe0YVt"
      },
      "outputs": [],
      "source": [
        "df = pd.read_csv(\"https://www1.ncdc.noaa.gov/pub/data/ghcn/daily/by_station/USW00023190.csv.gz\",\n",
        "                 compression = 'gzip',\n",
        "                 names = ['station','date','datatype','value','U1','U2','U3','U4'],\n",
        "                 low_memory = False)"
      ]
    },
    {
      "cell_type": "markdown",
      "metadata": {
        "id": "wGbkIQ1W1X0z"
      },
      "source": [
        "## Transform"
      ]
    },
    {
      "cell_type": "markdown",
      "metadata": {
        "id": "G4HDZCKa1cSJ"
      },
      "source": [
        "Make df DataFrame object into a useable data table"
      ]
    },
    {
      "cell_type": "code",
      "execution_count": null,
      "metadata": {
        "id": "PDdIEnSi1iBm"
      },
      "outputs": [],
      "source": [
        "df[\"date\"] = pd.to_datetime(df[\"date\"].astype(str))\n",
        "df = df.loc[(df[\"datatype\"].isin([\"TMIN\",\"TMAX\"])) & (df[\"date\"] >= \"1970-01-01\"), [\"date\", \"datatype\", \"value\"]]\n",
        "df[\"value\"] = np.round(np.array(df[\"value\"])/10 * 1.8 + 32, 0)\n",
        "df = df.pivot(index = \"date\", columns = \"datatype\", values = \"value\").dropna().rename_axis(None, axis = 1).reset_index(inplace = False)\n",
        "df[\"TAVG\"] = (df[\"TMIN\"] + df[\"TMAX\"]) / 2\n",
        "df = df.rename(columns = {\"date\": \"Date\", \"TMAX\": \"High Temperature\", \"TMIN\": \"Low Temperature\", \"TAVG\": \"Average Temperature\"})"
      ]
    },
    {
      "cell_type": "markdown",
      "metadata": {
        "id": "utLtqaH72Hut"
      },
      "source": [
        "Create aggregated DataFrame object"
      ]
    },
    {
      "cell_type": "code",
      "execution_count": null,
      "metadata": {},
      "outputs": [],
      "source": [
        "monthly = df[[\"Date\",\"Average Temperature\"]] \\\n",
        "  .dropna() \\\n",
        "    .groupby(pd.Grouper(key = 'Date', axis = 0, freq = 'ME')).mean() \\\n",
        "      .reset_index() \\\n",
        "        .tail(120)"
      ]
    },
    {
      "cell_type": "code",
      "execution_count": null,
      "metadata": {},
      "outputs": [],
      "source": [
        "monthly.head()"
      ]
    },
    {
      "cell_type": "markdown",
      "metadata": {},
      "source": [
        "# Time series decomposition models"
      ]
    },
    {
      "cell_type": "markdown",
      "metadata": {},
      "source": [
        "Daily average temperatures"
      ]
    },
    {
      "cell_type": "code",
      "execution_count": null,
      "metadata": {},
      "outputs": [],
      "source": [
        "series = df[\"Average Temperature\"].tail(1000)\n",
        "result = seasonal_decompose(series, model = 'additive', period = 365)\n",
        "result.plot()\n",
        "plt.show()"
      ]
    },
    {
      "cell_type": "markdown",
      "metadata": {},
      "source": [
        "Monthly average temperatures"
      ]
    },
    {
      "cell_type": "code",
      "execution_count": null,
      "metadata": {},
      "outputs": [],
      "source": [
        "series = monthly[\"Average Temperature\"]\n",
        "result = seasonal_decompose(series, model = 'additive', period = 12)\n",
        "result.plot()\n",
        "plt.show()"
      ]
    }
  ],
  "metadata": {
    "colab": {
      "provenance": []
    },
    "kernelspec": {
      "display_name": "Python 3",
      "name": "python3"
    },
    "language_info": {
      "codemirror_mode": {
        "name": "ipython",
        "version": 3
      },
      "file_extension": ".py",
      "mimetype": "text/x-python",
      "name": "python",
      "nbconvert_exporter": "python",
      "pygments_lexer": "ipython3",
      "version": "3.10.12"
    }
  },
  "nbformat": 4,
  "nbformat_minor": 0
}
