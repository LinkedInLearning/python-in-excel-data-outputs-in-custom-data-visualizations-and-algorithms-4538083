{
  "cells": [
    {
      "cell_type": "markdown",
      "metadata": {
        "id": "nhpKatpo0xy5"
      },
      "source": [
        "import Python libraries first"
      ]
    },
    {
      "cell_type": "code",
      "execution_count": 1,
      "metadata": {},
      "outputs": [
        {
          "name": "stdout",
          "output_type": "stream",
          "text": [
            "Defaulting to user installation because normal site-packages is not writeable\n",
            "Collecting pandas\n",
            "  Downloading pandas-2.2.2-cp310-cp310-manylinux_2_17_x86_64.manylinux2014_x86_64.whl (13.0 MB)\n",
            "\u001b[2K     \u001b[90m━━━━━━━━━━━━━━━━━━━━━━━━━━━━━━━━━━━━━━━━\u001b[0m \u001b[32m13.0/13.0 MB\u001b[0m \u001b[31m75.2 MB/s\u001b[0m eta \u001b[36m0:00:00\u001b[0m00:01\u001b[0m00:01\u001b[0m\n",
            "\u001b[?25hCollecting tzdata>=2022.7\n",
            "  Downloading tzdata-2024.1-py2.py3-none-any.whl (345 kB)\n",
            "\u001b[2K     \u001b[90m━━━━━━━━━━━━━━━━━━━━━━━━━━━━━━━━━━━━━━\u001b[0m \u001b[32m345.4/345.4 kB\u001b[0m \u001b[31m22.1 MB/s\u001b[0m eta \u001b[36m0:00:00\u001b[0m\n",
            "\u001b[?25hRequirement already satisfied: python-dateutil>=2.8.2 in /home/vscode/.local/lib/python3.10/site-packages (from pandas) (2.9.0.post0)\n",
            "Collecting pytz>=2020.1\n",
            "  Downloading pytz-2024.1-py2.py3-none-any.whl (505 kB)\n",
            "\u001b[2K     \u001b[90m━━━━━━━━━━━━━━━━━━━━━━━━━━━━━━━━━━━━━━\u001b[0m \u001b[32m505.5/505.5 kB\u001b[0m \u001b[31m24.7 MB/s\u001b[0m eta \u001b[36m0:00:00\u001b[0m\n",
            "\u001b[?25hCollecting numpy>=1.22.4\n",
            "  Downloading numpy-1.26.4-cp310-cp310-manylinux_2_17_x86_64.manylinux2014_x86_64.whl (18.2 MB)\n",
            "\u001b[2K     \u001b[90m━━━━━━━━━━━━━━━━━━━━━━━━━━━━━━━━━━━━━━━━\u001b[0m \u001b[32m18.2/18.2 MB\u001b[0m \u001b[31m55.5 MB/s\u001b[0m eta \u001b[36m0:00:00\u001b[0m00:01\u001b[0m00:01\u001b[0m\n",
            "\u001b[?25hRequirement already satisfied: six>=1.5 in /home/vscode/.local/lib/python3.10/site-packages (from python-dateutil>=2.8.2->pandas) (1.16.0)\n",
            "Installing collected packages: pytz, tzdata, numpy, pandas\n",
            "Successfully installed numpy-1.26.4 pandas-2.2.2 pytz-2024.1 tzdata-2024.1\n",
            "\n",
            "\u001b[1m[\u001b[0m\u001b[34;49mnotice\u001b[0m\u001b[1;39;49m]\u001b[0m\u001b[39;49m A new release of pip is available: \u001b[0m\u001b[31;49m23.0.1\u001b[0m\u001b[39;49m -> \u001b[0m\u001b[32;49m24.0\u001b[0m\n",
            "\u001b[1m[\u001b[0m\u001b[34;49mnotice\u001b[0m\u001b[1;39;49m]\u001b[0m\u001b[39;49m To update, run: \u001b[0m\u001b[32;49mpip install --upgrade pip\u001b[0m\n",
            "Note: you may need to restart the kernel to use updated packages.\n",
            "Defaulting to user installation because normal site-packages is not writeable\n",
            "Requirement already satisfied: numpy in /home/vscode/.local/lib/python3.10/site-packages (1.26.4)\n",
            "\n",
            "\u001b[1m[\u001b[0m\u001b[34;49mnotice\u001b[0m\u001b[1;39;49m]\u001b[0m\u001b[39;49m A new release of pip is available: \u001b[0m\u001b[31;49m23.0.1\u001b[0m\u001b[39;49m -> \u001b[0m\u001b[32;49m24.0\u001b[0m\n",
            "\u001b[1m[\u001b[0m\u001b[34;49mnotice\u001b[0m\u001b[1;39;49m]\u001b[0m\u001b[39;49m To update, run: \u001b[0m\u001b[32;49mpip install --upgrade pip\u001b[0m\n",
            "Note: you may need to restart the kernel to use updated packages.\n"
          ]
        }
      ],
      "source": [
        "%pip install pandas\n",
        "%pip install numpy"
      ]
    },
    {
      "cell_type": "code",
      "execution_count": 2,
      "metadata": {
        "id": "QXuuc6M30VU2"
      },
      "outputs": [],
      "source": [
        "import pandas as pd\n",
        "import numpy as np"
      ]
    },
    {
      "cell_type": "markdown",
      "metadata": {
        "id": "9MPonIk61HRN"
      },
      "source": [
        "# ETL framework"
      ]
    },
    {
      "cell_type": "markdown",
      "metadata": {
        "id": "dsRmvwXs1J-m"
      },
      "source": [
        "## extract"
      ]
    },
    {
      "cell_type": "markdown",
      "metadata": {
        "id": "TLukDlCg1VLc"
      },
      "source": [
        "from NOAA FTP folders for Santa Barbara Airport weather data"
      ]
    },
    {
      "cell_type": "code",
      "execution_count": 3,
      "metadata": {
        "id": "D05uyPHe0YVt"
      },
      "outputs": [],
      "source": [
        "df = pd.read_csv(\"https://www1.ncdc.noaa.gov/pub/data/ghcn/daily/by_station/USW00023190.csv.gz\",\n",
        "                 compression = 'gzip',\n",
        "                 names = ['station','date','datatype','value','U1','U2','U3','U4'],\n",
        "                 low_memory = False)"
      ]
    },
    {
      "cell_type": "markdown",
      "metadata": {
        "id": "wGbkIQ1W1X0z"
      },
      "source": [
        "## transform"
      ]
    },
    {
      "cell_type": "markdown",
      "metadata": {
        "id": "G4HDZCKa1cSJ"
      },
      "source": [
        "make df DataFrame object into a useable data table"
      ]
    },
    {
      "cell_type": "code",
      "execution_count": 4,
      "metadata": {
        "id": "PDdIEnSi1iBm"
      },
      "outputs": [],
      "source": [
        "df[\"date\"] = pd.to_datetime(df[\"date\"].astype(str))\n",
        "df = df.loc[(df[\"datatype\"].isin([\"TMIN\",\"TMAX\"])) & (df[\"date\"] >= \"1970-01-01\"), [\"date\", \"datatype\", \"value\"]]\n",
        "df[\"value\"] = np.round(np.array(df[\"value\"])/10 * 1.8 + 32, 0)\n",
        "df = df.pivot(index = \"date\", columns = \"datatype\", values = \"value\").dropna().rename_axis(None, axis = 1).reset_index(inplace = False)\n",
        "df[\"TAVG\"] = (df[\"TMIN\"] + df[\"TMAX\"]) / 2\n",
        "df = df.rename(columns = {\"date\": \"Date\", \"TMAX\": \"High Temperature\", \"TMIN\": \"Low Temperature\", \"TAVG\": \"Average Temperature\"})"
      ]
    },
    {
      "cell_type": "markdown",
      "metadata": {
        "id": "utLtqaH72Hut"
      },
      "source": [
        "# Create aggregated DataFrame object"
      ]
    },
    {
      "cell_type": "markdown",
      "metadata": {},
      "source": [
        "Select \"Date\" and \"Average Temperature\" columns"
      ]
    },
    {
      "cell_type": "code",
      "execution_count": 5,
      "metadata": {
        "colab": {
          "base_uri": "https://localhost:8080/",
          "height": 423
        },
        "id": "5i_wIUoNAYKg",
        "outputId": "e9968826-38fa-433c-f18b-cede74f0f920"
      },
      "outputs": [
        {
          "data": {
            "text/html": [
              "<div>\n",
              "<style scoped>\n",
              "    .dataframe tbody tr th:only-of-type {\n",
              "        vertical-align: middle;\n",
              "    }\n",
              "\n",
              "    .dataframe tbody tr th {\n",
              "        vertical-align: top;\n",
              "    }\n",
              "\n",
              "    .dataframe thead th {\n",
              "        text-align: right;\n",
              "    }\n",
              "</style>\n",
              "<table border=\"1\" class=\"dataframe\">\n",
              "  <thead>\n",
              "    <tr style=\"text-align: right;\">\n",
              "      <th></th>\n",
              "      <th>Date</th>\n",
              "      <th>Average Temperature</th>\n",
              "    </tr>\n",
              "  </thead>\n",
              "  <tbody>\n",
              "    <tr>\n",
              "      <th>0</th>\n",
              "      <td>1970-01-01</td>\n",
              "      <td>46.5</td>\n",
              "    </tr>\n",
              "    <tr>\n",
              "      <th>1</th>\n",
              "      <td>1970-01-02</td>\n",
              "      <td>46.0</td>\n",
              "    </tr>\n",
              "    <tr>\n",
              "      <th>2</th>\n",
              "      <td>1970-01-03</td>\n",
              "      <td>45.5</td>\n",
              "    </tr>\n",
              "    <tr>\n",
              "      <th>3</th>\n",
              "      <td>1970-01-04</td>\n",
              "      <td>44.5</td>\n",
              "    </tr>\n",
              "    <tr>\n",
              "      <th>4</th>\n",
              "      <td>1970-01-05</td>\n",
              "      <td>46.5</td>\n",
              "    </tr>\n",
              "    <tr>\n",
              "      <th>...</th>\n",
              "      <td>...</td>\n",
              "      <td>...</td>\n",
              "    </tr>\n",
              "    <tr>\n",
              "      <th>18896</th>\n",
              "      <td>2024-04-23</td>\n",
              "      <td>56.5</td>\n",
              "    </tr>\n",
              "    <tr>\n",
              "      <th>18897</th>\n",
              "      <td>2024-04-24</td>\n",
              "      <td>56.0</td>\n",
              "    </tr>\n",
              "    <tr>\n",
              "      <th>18898</th>\n",
              "      <td>2024-04-25</td>\n",
              "      <td>55.0</td>\n",
              "    </tr>\n",
              "    <tr>\n",
              "      <th>18899</th>\n",
              "      <td>2024-04-26</td>\n",
              "      <td>63.0</td>\n",
              "    </tr>\n",
              "    <tr>\n",
              "      <th>18900</th>\n",
              "      <td>2024-04-27</td>\n",
              "      <td>61.5</td>\n",
              "    </tr>\n",
              "  </tbody>\n",
              "</table>\n",
              "<p>18901 rows × 2 columns</p>\n",
              "</div>"
            ],
            "text/plain": [
              "            Date  Average Temperature\n",
              "0     1970-01-01                 46.5\n",
              "1     1970-01-02                 46.0\n",
              "2     1970-01-03                 45.5\n",
              "3     1970-01-04                 44.5\n",
              "4     1970-01-05                 46.5\n",
              "...          ...                  ...\n",
              "18896 2024-04-23                 56.5\n",
              "18897 2024-04-24                 56.0\n",
              "18898 2024-04-25                 55.0\n",
              "18899 2024-04-26                 63.0\n",
              "18900 2024-04-27                 61.5\n",
              "\n",
              "[18901 rows x 2 columns]"
            ]
          },
          "execution_count": 5,
          "metadata": {},
          "output_type": "execute_result"
        }
      ],
      "source": [
        "df[[\"Date\",\"Average Temperature\"]]"
      ]
    },
    {
      "cell_type": "markdown",
      "metadata": {},
      "source": [
        "Drop NAs from selected columns"
      ]
    },
    {
      "cell_type": "code",
      "execution_count": 6,
      "metadata": {
        "colab": {
          "base_uri": "https://localhost:8080/",
          "height": 423
        },
        "id": "PMiT4Qo0AcAs",
        "outputId": "d5be39cf-ee6f-48b0-aa78-f79bd30c287f"
      },
      "outputs": [
        {
          "data": {
            "text/html": [
              "<div>\n",
              "<style scoped>\n",
              "    .dataframe tbody tr th:only-of-type {\n",
              "        vertical-align: middle;\n",
              "    }\n",
              "\n",
              "    .dataframe tbody tr th {\n",
              "        vertical-align: top;\n",
              "    }\n",
              "\n",
              "    .dataframe thead th {\n",
              "        text-align: right;\n",
              "    }\n",
              "</style>\n",
              "<table border=\"1\" class=\"dataframe\">\n",
              "  <thead>\n",
              "    <tr style=\"text-align: right;\">\n",
              "      <th></th>\n",
              "      <th>Date</th>\n",
              "      <th>Average Temperature</th>\n",
              "    </tr>\n",
              "  </thead>\n",
              "  <tbody>\n",
              "    <tr>\n",
              "      <th>0</th>\n",
              "      <td>1970-01-01</td>\n",
              "      <td>46.5</td>\n",
              "    </tr>\n",
              "    <tr>\n",
              "      <th>1</th>\n",
              "      <td>1970-01-02</td>\n",
              "      <td>46.0</td>\n",
              "    </tr>\n",
              "    <tr>\n",
              "      <th>2</th>\n",
              "      <td>1970-01-03</td>\n",
              "      <td>45.5</td>\n",
              "    </tr>\n",
              "    <tr>\n",
              "      <th>3</th>\n",
              "      <td>1970-01-04</td>\n",
              "      <td>44.5</td>\n",
              "    </tr>\n",
              "    <tr>\n",
              "      <th>4</th>\n",
              "      <td>1970-01-05</td>\n",
              "      <td>46.5</td>\n",
              "    </tr>\n",
              "    <tr>\n",
              "      <th>...</th>\n",
              "      <td>...</td>\n",
              "      <td>...</td>\n",
              "    </tr>\n",
              "    <tr>\n",
              "      <th>18896</th>\n",
              "      <td>2024-04-23</td>\n",
              "      <td>56.5</td>\n",
              "    </tr>\n",
              "    <tr>\n",
              "      <th>18897</th>\n",
              "      <td>2024-04-24</td>\n",
              "      <td>56.0</td>\n",
              "    </tr>\n",
              "    <tr>\n",
              "      <th>18898</th>\n",
              "      <td>2024-04-25</td>\n",
              "      <td>55.0</td>\n",
              "    </tr>\n",
              "    <tr>\n",
              "      <th>18899</th>\n",
              "      <td>2024-04-26</td>\n",
              "      <td>63.0</td>\n",
              "    </tr>\n",
              "    <tr>\n",
              "      <th>18900</th>\n",
              "      <td>2024-04-27</td>\n",
              "      <td>61.5</td>\n",
              "    </tr>\n",
              "  </tbody>\n",
              "</table>\n",
              "<p>18901 rows × 2 columns</p>\n",
              "</div>"
            ],
            "text/plain": [
              "            Date  Average Temperature\n",
              "0     1970-01-01                 46.5\n",
              "1     1970-01-02                 46.0\n",
              "2     1970-01-03                 45.5\n",
              "3     1970-01-04                 44.5\n",
              "4     1970-01-05                 46.5\n",
              "...          ...                  ...\n",
              "18896 2024-04-23                 56.5\n",
              "18897 2024-04-24                 56.0\n",
              "18898 2024-04-25                 55.0\n",
              "18899 2024-04-26                 63.0\n",
              "18900 2024-04-27                 61.5\n",
              "\n",
              "[18901 rows x 2 columns]"
            ]
          },
          "execution_count": 6,
          "metadata": {},
          "output_type": "execute_result"
        }
      ],
      "source": [
        "df[[\"Date\",\"Average Temperature\"]] \\\n",
        "  .dropna()"
      ]
    },
    {
      "cell_type": "markdown",
      "metadata": {},
      "source": [
        "Convert date into the end of each month and year, then group by Date as Dimension in first column, calculate mean for Average Temperatures by each monthly period"
      ]
    },
    {
      "cell_type": "code",
      "execution_count": 12,
      "metadata": {
        "colab": {
          "base_uri": "https://localhost:8080/",
          "height": 455
        },
        "id": "Vb7RMId7AenG",
        "outputId": "64a4f507-9c73-4d50-a618-535f45055438"
      },
      "outputs": [
        {
          "data": {
            "text/html": [
              "<div>\n",
              "<style scoped>\n",
              "    .dataframe tbody tr th:only-of-type {\n",
              "        vertical-align: middle;\n",
              "    }\n",
              "\n",
              "    .dataframe tbody tr th {\n",
              "        vertical-align: top;\n",
              "    }\n",
              "\n",
              "    .dataframe thead th {\n",
              "        text-align: right;\n",
              "    }\n",
              "</style>\n",
              "<table border=\"1\" class=\"dataframe\">\n",
              "  <thead>\n",
              "    <tr style=\"text-align: right;\">\n",
              "      <th></th>\n",
              "      <th>Average Temperature</th>\n",
              "    </tr>\n",
              "    <tr>\n",
              "      <th>Date</th>\n",
              "      <th></th>\n",
              "    </tr>\n",
              "  </thead>\n",
              "  <tbody>\n",
              "    <tr>\n",
              "      <th>1970-01-31</th>\n",
              "      <td>52.838710</td>\n",
              "    </tr>\n",
              "    <tr>\n",
              "      <th>1970-02-28</th>\n",
              "      <td>55.410714</td>\n",
              "    </tr>\n",
              "    <tr>\n",
              "      <th>1970-03-31</th>\n",
              "      <td>56.467742</td>\n",
              "    </tr>\n",
              "    <tr>\n",
              "      <th>1970-04-30</th>\n",
              "      <td>56.666667</td>\n",
              "    </tr>\n",
              "    <tr>\n",
              "      <th>1970-05-31</th>\n",
              "      <td>60.580645</td>\n",
              "    </tr>\n",
              "    <tr>\n",
              "      <th>...</th>\n",
              "      <td>...</td>\n",
              "    </tr>\n",
              "    <tr>\n",
              "      <th>2023-12-31</th>\n",
              "      <td>57.741935</td>\n",
              "    </tr>\n",
              "    <tr>\n",
              "      <th>2024-01-31</th>\n",
              "      <td>55.677419</td>\n",
              "    </tr>\n",
              "    <tr>\n",
              "      <th>2024-02-29</th>\n",
              "      <td>56.017241</td>\n",
              "    </tr>\n",
              "    <tr>\n",
              "      <th>2024-03-31</th>\n",
              "      <td>56.548387</td>\n",
              "    </tr>\n",
              "    <tr>\n",
              "      <th>2024-04-30</th>\n",
              "      <td>56.537037</td>\n",
              "    </tr>\n",
              "  </tbody>\n",
              "</table>\n",
              "<p>652 rows × 1 columns</p>\n",
              "</div>"
            ],
            "text/plain": [
              "            Average Temperature\n",
              "Date                           \n",
              "1970-01-31            52.838710\n",
              "1970-02-28            55.410714\n",
              "1970-03-31            56.467742\n",
              "1970-04-30            56.666667\n",
              "1970-05-31            60.580645\n",
              "...                         ...\n",
              "2023-12-31            57.741935\n",
              "2024-01-31            55.677419\n",
              "2024-02-29            56.017241\n",
              "2024-03-31            56.548387\n",
              "2024-04-30            56.537037\n",
              "\n",
              "[652 rows x 1 columns]"
            ]
          },
          "execution_count": 12,
          "metadata": {},
          "output_type": "execute_result"
        }
      ],
      "source": [
        "df[[\"Date\",\"Average Temperature\"]] \\\n",
        "  .dropna() \\\n",
        "    .groupby(pd.Grouper(key = 'Date', axis = 0, freq = 'ME')).mean()"
      ]
    },
    {
      "cell_type": "markdown",
      "metadata": {},
      "source": [
        "Reset index of new grouped DataFrame object"
      ]
    },
    {
      "cell_type": "code",
      "execution_count": 13,
      "metadata": {
        "colab": {
          "base_uri": "https://localhost:8080/",
          "height": 423
        },
        "id": "-yJx5xD0Ajmy",
        "outputId": "138b46f8-9c94-412e-cee0-6aa08ce3bc14"
      },
      "outputs": [
        {
          "data": {
            "text/html": [
              "<div>\n",
              "<style scoped>\n",
              "    .dataframe tbody tr th:only-of-type {\n",
              "        vertical-align: middle;\n",
              "    }\n",
              "\n",
              "    .dataframe tbody tr th {\n",
              "        vertical-align: top;\n",
              "    }\n",
              "\n",
              "    .dataframe thead th {\n",
              "        text-align: right;\n",
              "    }\n",
              "</style>\n",
              "<table border=\"1\" class=\"dataframe\">\n",
              "  <thead>\n",
              "    <tr style=\"text-align: right;\">\n",
              "      <th></th>\n",
              "      <th>Date</th>\n",
              "      <th>Average Temperature</th>\n",
              "    </tr>\n",
              "  </thead>\n",
              "  <tbody>\n",
              "    <tr>\n",
              "      <th>0</th>\n",
              "      <td>1970-01-31</td>\n",
              "      <td>52.838710</td>\n",
              "    </tr>\n",
              "    <tr>\n",
              "      <th>1</th>\n",
              "      <td>1970-02-28</td>\n",
              "      <td>55.410714</td>\n",
              "    </tr>\n",
              "    <tr>\n",
              "      <th>2</th>\n",
              "      <td>1970-03-31</td>\n",
              "      <td>56.467742</td>\n",
              "    </tr>\n",
              "    <tr>\n",
              "      <th>3</th>\n",
              "      <td>1970-04-30</td>\n",
              "      <td>56.666667</td>\n",
              "    </tr>\n",
              "    <tr>\n",
              "      <th>4</th>\n",
              "      <td>1970-05-31</td>\n",
              "      <td>60.580645</td>\n",
              "    </tr>\n",
              "    <tr>\n",
              "      <th>...</th>\n",
              "      <td>...</td>\n",
              "      <td>...</td>\n",
              "    </tr>\n",
              "    <tr>\n",
              "      <th>647</th>\n",
              "      <td>2023-12-31</td>\n",
              "      <td>57.741935</td>\n",
              "    </tr>\n",
              "    <tr>\n",
              "      <th>648</th>\n",
              "      <td>2024-01-31</td>\n",
              "      <td>55.677419</td>\n",
              "    </tr>\n",
              "    <tr>\n",
              "      <th>649</th>\n",
              "      <td>2024-02-29</td>\n",
              "      <td>56.017241</td>\n",
              "    </tr>\n",
              "    <tr>\n",
              "      <th>650</th>\n",
              "      <td>2024-03-31</td>\n",
              "      <td>56.548387</td>\n",
              "    </tr>\n",
              "    <tr>\n",
              "      <th>651</th>\n",
              "      <td>2024-04-30</td>\n",
              "      <td>56.537037</td>\n",
              "    </tr>\n",
              "  </tbody>\n",
              "</table>\n",
              "<p>652 rows × 2 columns</p>\n",
              "</div>"
            ],
            "text/plain": [
              "          Date  Average Temperature\n",
              "0   1970-01-31            52.838710\n",
              "1   1970-02-28            55.410714\n",
              "2   1970-03-31            56.467742\n",
              "3   1970-04-30            56.666667\n",
              "4   1970-05-31            60.580645\n",
              "..         ...                  ...\n",
              "647 2023-12-31            57.741935\n",
              "648 2024-01-31            55.677419\n",
              "649 2024-02-29            56.017241\n",
              "650 2024-03-31            56.548387\n",
              "651 2024-04-30            56.537037\n",
              "\n",
              "[652 rows x 2 columns]"
            ]
          },
          "execution_count": 13,
          "metadata": {},
          "output_type": "execute_result"
        }
      ],
      "source": [
        "df[[\"Date\",\"Average Temperature\"]] \\\n",
        "  .dropna() \\\n",
        "    .groupby(pd.Grouper(key = 'Date', axis = 0, freq = 'ME')).mean() \\\n",
        "      .reset_index()"
      ]
    },
    {
      "cell_type": "markdown",
      "metadata": {},
      "source": [
        "Display most recent 120 monthly periods"
      ]
    },
    {
      "cell_type": "code",
      "execution_count": 9,
      "metadata": {
        "colab": {
          "base_uri": "https://localhost:8080/",
          "height": 423
        },
        "id": "dMd1GIwYAl87",
        "outputId": "a7124fd3-2998-45f9-dd70-b01c22227edf"
      },
      "outputs": [
        {
          "name": "stderr",
          "output_type": "stream",
          "text": [
            "/tmp/ipykernel_5910/4200126.py:3: FutureWarning: 'M' is deprecated and will be removed in a future version, please use 'ME' instead.\n",
            "  .groupby(pd.Grouper(key = 'Date', axis = 0, freq = 'M')).mean() \\\n"
          ]
        },
        {
          "data": {
            "text/html": [
              "<div>\n",
              "<style scoped>\n",
              "    .dataframe tbody tr th:only-of-type {\n",
              "        vertical-align: middle;\n",
              "    }\n",
              "\n",
              "    .dataframe tbody tr th {\n",
              "        vertical-align: top;\n",
              "    }\n",
              "\n",
              "    .dataframe thead th {\n",
              "        text-align: right;\n",
              "    }\n",
              "</style>\n",
              "<table border=\"1\" class=\"dataframe\">\n",
              "  <thead>\n",
              "    <tr style=\"text-align: right;\">\n",
              "      <th></th>\n",
              "      <th>Date</th>\n",
              "      <th>Average Temperature</th>\n",
              "    </tr>\n",
              "  </thead>\n",
              "  <tbody>\n",
              "    <tr>\n",
              "      <th>532</th>\n",
              "      <td>2014-05-31</td>\n",
              "      <td>64.645161</td>\n",
              "    </tr>\n",
              "    <tr>\n",
              "      <th>533</th>\n",
              "      <td>2014-06-30</td>\n",
              "      <td>63.800000</td>\n",
              "    </tr>\n",
              "    <tr>\n",
              "      <th>534</th>\n",
              "      <td>2014-07-31</td>\n",
              "      <td>69.532258</td>\n",
              "    </tr>\n",
              "    <tr>\n",
              "      <th>535</th>\n",
              "      <td>2014-08-31</td>\n",
              "      <td>67.741935</td>\n",
              "    </tr>\n",
              "    <tr>\n",
              "      <th>536</th>\n",
              "      <td>2014-09-30</td>\n",
              "      <td>69.133333</td>\n",
              "    </tr>\n",
              "    <tr>\n",
              "      <th>...</th>\n",
              "      <td>...</td>\n",
              "      <td>...</td>\n",
              "    </tr>\n",
              "    <tr>\n",
              "      <th>647</th>\n",
              "      <td>2023-12-31</td>\n",
              "      <td>57.741935</td>\n",
              "    </tr>\n",
              "    <tr>\n",
              "      <th>648</th>\n",
              "      <td>2024-01-31</td>\n",
              "      <td>55.677419</td>\n",
              "    </tr>\n",
              "    <tr>\n",
              "      <th>649</th>\n",
              "      <td>2024-02-29</td>\n",
              "      <td>56.017241</td>\n",
              "    </tr>\n",
              "    <tr>\n",
              "      <th>650</th>\n",
              "      <td>2024-03-31</td>\n",
              "      <td>56.548387</td>\n",
              "    </tr>\n",
              "    <tr>\n",
              "      <th>651</th>\n",
              "      <td>2024-04-30</td>\n",
              "      <td>56.537037</td>\n",
              "    </tr>\n",
              "  </tbody>\n",
              "</table>\n",
              "<p>120 rows × 2 columns</p>\n",
              "</div>"
            ],
            "text/plain": [
              "          Date  Average Temperature\n",
              "532 2014-05-31            64.645161\n",
              "533 2014-06-30            63.800000\n",
              "534 2014-07-31            69.532258\n",
              "535 2014-08-31            67.741935\n",
              "536 2014-09-30            69.133333\n",
              "..         ...                  ...\n",
              "647 2023-12-31            57.741935\n",
              "648 2024-01-31            55.677419\n",
              "649 2024-02-29            56.017241\n",
              "650 2024-03-31            56.548387\n",
              "651 2024-04-30            56.537037\n",
              "\n",
              "[120 rows x 2 columns]"
            ]
          },
          "execution_count": 9,
          "metadata": {},
          "output_type": "execute_result"
        }
      ],
      "source": [
        "df[[\"Date\",\"Average Temperature\"]] \\\n",
        "  .dropna() \\\n",
        "    .groupby(pd.Grouper(key = 'Date', axis = 0, freq = 'ME')).mean() \\\n",
        "      .reset_index() \\\n",
        "        .tail(120)"
      ]
    },
    {
      "cell_type": "markdown",
      "metadata": {},
      "source": [
        "# Set index column to field in DataFrame"
      ]
    },
    {
      "cell_type": "markdown",
      "metadata": {},
      "source": [
        "Create overall average temperatures by California city"
      ]
    },
    {
      "cell_type": "code",
      "execution_count": 16,
      "metadata": {},
      "outputs": [
        {
          "data": {
            "text/html": [
              "<div>\n",
              "<style scoped>\n",
              "    .dataframe tbody tr th:only-of-type {\n",
              "        vertical-align: middle;\n",
              "    }\n",
              "\n",
              "    .dataframe tbody tr th {\n",
              "        vertical-align: top;\n",
              "    }\n",
              "\n",
              "    .dataframe thead th {\n",
              "        text-align: right;\n",
              "    }\n",
              "</style>\n",
              "<table border=\"1\" class=\"dataframe\">\n",
              "  <thead>\n",
              "    <tr style=\"text-align: right;\">\n",
              "      <th></th>\n",
              "      <th>Station</th>\n",
              "      <th>High Temperature</th>\n",
              "      <th>Low Temperature</th>\n",
              "      <th>Average Temperature</th>\n",
              "    </tr>\n",
              "  </thead>\n",
              "  <tbody>\n",
              "    <tr>\n",
              "      <th>0</th>\n",
              "      <td>Bakersfield</td>\n",
              "      <td>78</td>\n",
              "      <td>53</td>\n",
              "      <td>65.5</td>\n",
              "    </tr>\n",
              "    <tr>\n",
              "      <th>1</th>\n",
              "      <td>Burbank</td>\n",
              "      <td>77</td>\n",
              "      <td>55</td>\n",
              "      <td>66.0</td>\n",
              "    </tr>\n",
              "    <tr>\n",
              "      <th>2</th>\n",
              "      <td>Fresno</td>\n",
              "      <td>77</td>\n",
              "      <td>51</td>\n",
              "      <td>64.0</td>\n",
              "    </tr>\n",
              "    <tr>\n",
              "      <th>3</th>\n",
              "      <td>Long Beach</td>\n",
              "      <td>74</td>\n",
              "      <td>55</td>\n",
              "      <td>64.5</td>\n",
              "    </tr>\n",
              "    <tr>\n",
              "      <th>4</th>\n",
              "      <td>Los Angeles</td>\n",
              "      <td>70</td>\n",
              "      <td>56</td>\n",
              "      <td>63.0</td>\n",
              "    </tr>\n",
              "    <tr>\n",
              "      <th>5</th>\n",
              "      <td>Sacramento</td>\n",
              "      <td>74</td>\n",
              "      <td>48</td>\n",
              "      <td>61.0</td>\n",
              "    </tr>\n",
              "    <tr>\n",
              "      <th>6</th>\n",
              "      <td>San Diego</td>\n",
              "      <td>71</td>\n",
              "      <td>57</td>\n",
              "      <td>64.0</td>\n",
              "    </tr>\n",
              "    <tr>\n",
              "      <th>7</th>\n",
              "      <td>San Francisco</td>\n",
              "      <td>66</td>\n",
              "      <td>50</td>\n",
              "      <td>58.0</td>\n",
              "    </tr>\n",
              "    <tr>\n",
              "      <th>8</th>\n",
              "      <td>Santa Barbara</td>\n",
              "      <td>70</td>\n",
              "      <td>49</td>\n",
              "      <td>59.5</td>\n",
              "    </tr>\n",
              "  </tbody>\n",
              "</table>\n",
              "</div>"
            ],
            "text/plain": [
              "         Station  High Temperature  Low Temperature  Average Temperature\n",
              "0    Bakersfield                78               53                 65.5\n",
              "1        Burbank                77               55                 66.0\n",
              "2         Fresno                77               51                 64.0\n",
              "3     Long Beach                74               55                 64.5\n",
              "4    Los Angeles                70               56                 63.0\n",
              "5     Sacramento                74               48                 61.0\n",
              "6      San Diego                71               57                 64.0\n",
              "7  San Francisco                66               50                 58.0\n",
              "8  Santa Barbara                70               49                 59.5"
            ]
          },
          "execution_count": 16,
          "metadata": {},
          "output_type": "execute_result"
        }
      ],
      "source": [
        "temps = [[\"Bakersfield\", 78,  53, 65.5],\n",
        "        [\"Burbank\", 77, 55, 66],\n",
        "        [\"Fresno\", 77,  51, 64],\n",
        "        [\"Long Beach\", 74,  55, 64.5],\n",
        "        [\"Los Angeles\", 70,  56, 63],\n",
        "        [\"Sacramento\", 74,  48, 61],\n",
        "        [\"San Diego\", 71,  57, 64],\n",
        "        [\"San Francisco\", 66,  50, 58],\n",
        "        [\"Santa Barbara\", 70,  49, 59.5]]\n",
        "df = pd.DataFrame(temps, columns = [\"Station\", \"High Temperature\", \"Low Temperature\", \"Average Temperature\"])\n",
        "df.head(10)"
      ]
    },
    {
      "cell_type": "code",
      "execution_count": 17,
      "metadata": {},
      "outputs": [
        {
          "data": {
            "text/html": [
              "<div>\n",
              "<style scoped>\n",
              "    .dataframe tbody tr th:only-of-type {\n",
              "        vertical-align: middle;\n",
              "    }\n",
              "\n",
              "    .dataframe tbody tr th {\n",
              "        vertical-align: top;\n",
              "    }\n",
              "\n",
              "    .dataframe thead th {\n",
              "        text-align: right;\n",
              "    }\n",
              "</style>\n",
              "<table border=\"1\" class=\"dataframe\">\n",
              "  <thead>\n",
              "    <tr style=\"text-align: right;\">\n",
              "      <th></th>\n",
              "      <th>High Temperature</th>\n",
              "      <th>Low Temperature</th>\n",
              "      <th>Average Temperature</th>\n",
              "    </tr>\n",
              "    <tr>\n",
              "      <th>Station</th>\n",
              "      <th></th>\n",
              "      <th></th>\n",
              "      <th></th>\n",
              "    </tr>\n",
              "  </thead>\n",
              "  <tbody>\n",
              "    <tr>\n",
              "      <th>Bakersfield</th>\n",
              "      <td>78</td>\n",
              "      <td>53</td>\n",
              "      <td>65.5</td>\n",
              "    </tr>\n",
              "    <tr>\n",
              "      <th>Burbank</th>\n",
              "      <td>77</td>\n",
              "      <td>55</td>\n",
              "      <td>66.0</td>\n",
              "    </tr>\n",
              "    <tr>\n",
              "      <th>Fresno</th>\n",
              "      <td>77</td>\n",
              "      <td>51</td>\n",
              "      <td>64.0</td>\n",
              "    </tr>\n",
              "    <tr>\n",
              "      <th>Long Beach</th>\n",
              "      <td>74</td>\n",
              "      <td>55</td>\n",
              "      <td>64.5</td>\n",
              "    </tr>\n",
              "    <tr>\n",
              "      <th>Los Angeles</th>\n",
              "      <td>70</td>\n",
              "      <td>56</td>\n",
              "      <td>63.0</td>\n",
              "    </tr>\n",
              "    <tr>\n",
              "      <th>Sacramento</th>\n",
              "      <td>74</td>\n",
              "      <td>48</td>\n",
              "      <td>61.0</td>\n",
              "    </tr>\n",
              "    <tr>\n",
              "      <th>San Diego</th>\n",
              "      <td>71</td>\n",
              "      <td>57</td>\n",
              "      <td>64.0</td>\n",
              "    </tr>\n",
              "    <tr>\n",
              "      <th>San Francisco</th>\n",
              "      <td>66</td>\n",
              "      <td>50</td>\n",
              "      <td>58.0</td>\n",
              "    </tr>\n",
              "    <tr>\n",
              "      <th>Santa Barbara</th>\n",
              "      <td>70</td>\n",
              "      <td>49</td>\n",
              "      <td>59.5</td>\n",
              "    </tr>\n",
              "  </tbody>\n",
              "</table>\n",
              "</div>"
            ],
            "text/plain": [
              "               High Temperature  Low Temperature  Average Temperature\n",
              "Station                                                              \n",
              "Bakersfield                  78               53                 65.5\n",
              "Burbank                      77               55                 66.0\n",
              "Fresno                       77               51                 64.0\n",
              "Long Beach                   74               55                 64.5\n",
              "Los Angeles                  70               56                 63.0\n",
              "Sacramento                   74               48                 61.0\n",
              "San Diego                    71               57                 64.0\n",
              "San Francisco                66               50                 58.0\n",
              "Santa Barbara                70               49                 59.5"
            ]
          },
          "execution_count": 17,
          "metadata": {},
          "output_type": "execute_result"
        }
      ],
      "source": [
        "df.set_index(\"Station\")"
      ]
    }
  ],
  "metadata": {
    "colab": {
      "provenance": []
    },
    "kernelspec": {
      "display_name": "Python 3",
      "name": "python3"
    },
    "language_info": {
      "codemirror_mode": {
        "name": "ipython",
        "version": 3
      },
      "file_extension": ".py",
      "mimetype": "text/x-python",
      "name": "python",
      "nbconvert_exporter": "python",
      "pygments_lexer": "ipython3",
      "version": "3.10.12"
    }
  },
  "nbformat": 4,
  "nbformat_minor": 0
}
