{
  "cells": [
    {
      "cell_type": "markdown",
      "metadata": {
        "id": "nhpKatpo0xy5"
      },
      "source": [
        "import Python libraries first"
      ]
    },
    {
      "cell_type": "code",
      "execution_count": null,
      "metadata": {},
      "outputs": [],
      "source": [
        "%pip install pandas\n",
        "%pip install numpy"
      ]
    },
    {
      "cell_type": "code",
      "execution_count": null,
      "metadata": {
        "id": "QXuuc6M30VU2"
      },
      "outputs": [],
      "source": [
        "import pandas as pd\n",
        "import numpy as np"
      ]
    },
    {
      "cell_type": "markdown",
      "metadata": {
        "id": "9MPonIk61HRN"
      },
      "source": [
        "# ETL framework"
      ]
    },
    {
      "cell_type": "markdown",
      "metadata": {
        "id": "dsRmvwXs1J-m"
      },
      "source": [
        "## extract"
      ]
    },
    {
      "cell_type": "markdown",
      "metadata": {
        "id": "TLukDlCg1VLc"
      },
      "source": [
        "from NOAA FTP folders for Santa Barbara Airport weather data"
      ]
    },
    {
      "cell_type": "code",
      "execution_count": null,
      "metadata": {
        "id": "D05uyPHe0YVt"
      },
      "outputs": [],
      "source": [
        "df = pd.read_csv(\"https://www1.ncdc.noaa.gov/pub/data/ghcn/daily/by_station/USW00023190.csv.gz\",\n",
        "                 compression = 'gzip',\n",
        "                 names = ['station','date','datatype','value','U1','U2','U3','U4'],\n",
        "                 low_memory = False)"
      ]
    },
    {
      "cell_type": "markdown",
      "metadata": {
        "id": "wGbkIQ1W1X0z"
      },
      "source": [
        "## transform"
      ]
    },
    {
      "cell_type": "markdown",
      "metadata": {
        "id": "G4HDZCKa1cSJ"
      },
      "source": [
        "make df DataFrame object into a useable data table"
      ]
    },
    {
      "cell_type": "code",
      "execution_count": null,
      "metadata": {
        "id": "PDdIEnSi1iBm"
      },
      "outputs": [],
      "source": [
        "df[\"date\"] = pd.to_datetime(df[\"date\"].astype(str))\n",
        "df = df.loc[(df[\"datatype\"].isin([\"TMIN\",\"TMAX\"])) & (df[\"date\"] >= \"1970-01-01\"), [\"date\", \"datatype\", \"value\"]]\n",
        "df[\"value\"] = np.round(np.array(df[\"value\"])/10 * 1.8 + 32, 0)\n",
        "df = df.pivot(index = \"date\", columns = \"datatype\", values = \"value\").dropna().rename_axis(None, axis = 1).reset_index(inplace = False)\n",
        "df[\"TAVG\"] = (df[\"TMIN\"] + df[\"TMAX\"]) / 2\n",
        "df = df.rename(columns = {\"date\": \"Date\", \"TMAX\": \"High Temperature\", \"TMIN\": \"Low Temperature\", \"TAVG\": \"Average Temperature\"})"
      ]
    },
    {
      "cell_type": "markdown",
      "metadata": {
        "id": "utLtqaH72Hut"
      },
      "source": [
        "# Create aggregated DataFrame object"
      ]
    },
    {
      "cell_type": "markdown",
      "metadata": {},
      "source": [
        "Select \"Date\" and \"Average Temperature\" columns"
      ]
    },
    {
      "cell_type": "code",
      "execution_count": null,
      "metadata": {
        "colab": {
          "base_uri": "https://localhost:8080/",
          "height": 423
        },
        "id": "5i_wIUoNAYKg",
        "outputId": "e9968826-38fa-433c-f18b-cede74f0f920"
      },
      "outputs": [],
      "source": [
        "df[[\"Date\",\"Average Temperature\"]]"
      ]
    },
    {
      "cell_type": "markdown",
      "metadata": {},
      "source": [
        "Drop NAs from selected columns"
      ]
    },
    {
      "cell_type": "code",
      "execution_count": null,
      "metadata": {
        "colab": {
          "base_uri": "https://localhost:8080/",
          "height": 423
        },
        "id": "PMiT4Qo0AcAs",
        "outputId": "d5be39cf-ee6f-48b0-aa78-f79bd30c287f"
      },
      "outputs": [],
      "source": [
        "df[[\"Date\",\"Average Temperature\"]] \\\n",
        "  .dropna()"
      ]
    },
    {
      "cell_type": "markdown",
      "metadata": {},
      "source": [
        "Convert date into the end of each month and year, then group by Date as Dimension in first column, calculate mean for Average Temperatures by each monthly period"
      ]
    },
    {
      "cell_type": "code",
      "execution_count": null,
      "metadata": {
        "colab": {
          "base_uri": "https://localhost:8080/",
          "height": 455
        },
        "id": "Vb7RMId7AenG",
        "outputId": "64a4f507-9c73-4d50-a618-535f45055438"
      },
      "outputs": [],
      "source": [
        "df[[\"Date\",\"Average Temperature\"]] \\\n",
        "  .dropna() \\\n",
        "    .groupby(pd.Grouper(key = 'Date', axis = 0, freq = 'ME')).mean()"
      ]
    },
    {
      "cell_type": "markdown",
      "metadata": {},
      "source": [
        "Reset index of new grouped DataFrame object"
      ]
    },
    {
      "cell_type": "code",
      "execution_count": null,
      "metadata": {
        "colab": {
          "base_uri": "https://localhost:8080/",
          "height": 423
        },
        "id": "-yJx5xD0Ajmy",
        "outputId": "138b46f8-9c94-412e-cee0-6aa08ce3bc14"
      },
      "outputs": [],
      "source": [
        "df[[\"Date\",\"Average Temperature\"]] \\\n",
        "  .dropna() \\\n",
        "    .groupby(pd.Grouper(key = 'Date', axis = 0, freq = 'ME')).mean() \\\n",
        "      .reset_index()"
      ]
    },
    {
      "cell_type": "markdown",
      "metadata": {},
      "source": [
        "Display most recent 120 monthly periods"
      ]
    },
    {
      "cell_type": "code",
      "execution_count": null,
      "metadata": {
        "colab": {
          "base_uri": "https://localhost:8080/",
          "height": 423
        },
        "id": "dMd1GIwYAl87",
        "outputId": "a7124fd3-2998-45f9-dd70-b01c22227edf"
      },
      "outputs": [],
      "source": [
        "df[[\"Date\",\"Average Temperature\"]] \\\n",
        "  .dropna() \\\n",
        "    .groupby(pd.Grouper(key = 'Date', axis = 0, freq = 'ME')).mean() \\\n",
        "      .reset_index() \\\n",
        "        .tail(120)"
      ]
    },
    {
      "cell_type": "markdown",
      "metadata": {},
      "source": [
        "# Set index column to field in DataFrame"
      ]
    },
    {
      "cell_type": "markdown",
      "metadata": {},
      "source": [
        "Create overall average temperatures by California city"
      ]
    },
    {
      "cell_type": "code",
      "execution_count": null,
      "metadata": {},
      "outputs": [],
      "source": [
        "temps = [[\"Bakersfield\", 78,  53, 65.5],\n",
        "        [\"Burbank\", 77, 55, 66],\n",
        "        [\"Fresno\", 77,  51, 64],\n",
        "        [\"Long Beach\", 74,  55, 64.5],\n",
        "        [\"Los Angeles\", 70,  56, 63],\n",
        "        [\"Sacramento\", 74,  48, 61],\n",
        "        [\"San Diego\", 71,  57, 64],\n",
        "        [\"San Francisco\", 66,  50, 58],\n",
        "        [\"Santa Barbara\", 70,  49, 59.5]]\n",
        "df = pd.DataFrame(temps, columns = [\"Station\", \"High Temperature\", \"Low Temperature\", \"Average Temperature\"])\n",
        "df.head(10)"
      ]
    },
    {
      "cell_type": "code",
      "execution_count": null,
      "metadata": {},
      "outputs": [],
      "source": [
        "df.set_index(\"Station\")"
      ]
    }
  ],
  "metadata": {
    "colab": {
      "provenance": []
    },
    "kernelspec": {
      "display_name": "Python 3",
      "name": "python3"
    },
    "language_info": {
      "codemirror_mode": {
        "name": "ipython",
        "version": 3
      },
      "file_extension": ".py",
      "mimetype": "text/x-python",
      "name": "python",
      "nbconvert_exporter": "python",
      "pygments_lexer": "ipython3",
      "version": "3.10.12"
    }
  },
  "nbformat": 4,
  "nbformat_minor": 0
}
