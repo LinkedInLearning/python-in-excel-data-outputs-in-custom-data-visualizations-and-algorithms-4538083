{
  "cells": [
    {
      "cell_type": "markdown",
      "metadata": {
        "id": "A-ZNUpqb5oyg"
      },
      "source": [
        "Import Python libraries first"
      ]
    },
    {
      "cell_type": "code",
      "execution_count": null,
      "metadata": {
        "colab": {
          "base_uri": "https://localhost:8080/"
        },
        "id": "Stmo_yXa5oZM",
        "outputId": "f7edee65-f0e9-4a8b-897b-045db0fc1c1e"
      },
      "outputs": [],
      "source": [
        "%pip install pandas\n",
        "%pip install scikit-learn"
      ]
    },
    {
      "cell_type": "code",
      "execution_count": null,
      "metadata": {
        "id": "EYnuLi685wMo"
      },
      "outputs": [],
      "source": [
        "import pandas as pd\n",
        "from sklearn.linear_model import LogisticRegression\n",
        "from sklearn.preprocessing import StandardScaler"
      ]
    },
    {
      "cell_type": "markdown",
      "metadata": {
        "id": "e-CV-VNN5zIB"
      },
      "source": [
        "# ETL framework to create DataFrame"
      ]
    },
    {
      "cell_type": "code",
      "execution_count": null,
      "metadata": {
        "id": "msZ8_tS55161"
      },
      "outputs": [],
      "source": [
        "df = pd.DataFrame({'x':[1,2,3,4,5,6,7,8,9,10],'y':[0,0,0,0,1,0,1,1,1,1]})\n",
        "df.head(10)"
      ]
    },
    {
      "cell_type": "markdown",
      "metadata": {
        "id": "R-gauJfrJVHq"
      },
      "source": [
        "# Logistic regression model"
      ]
    },
    {
      "cell_type": "markdown",
      "metadata": {
        "id": "KPjbS7zNJW2T"
      },
      "source": [
        "Create logit object to store logistic regression results and its parameters"
      ]
    },
    {
      "cell_type": "code",
      "execution_count": null,
      "metadata": {
        "id": "fpGdgo2r54wP"
      },
      "outputs": [],
      "source": [
        "logit = LogisticRegression(fit_intercept = True, penalty = None, class_weight = 'balanced')\n",
        "print(logit)"
      ]
    },
    {
      "cell_type": "markdown",
      "metadata": {
        "id": "eN4SlGwuJkED"
      },
      "source": [
        "Call Standard Scaler, then scale with the values in the DataFrame x column"
      ]
    },
    {
      "cell_type": "code",
      "execution_count": null,
      "metadata": {
        "colab": {
          "base_uri": "https://localhost:8080/"
        },
        "id": "CTHrUTzA-Udg",
        "outputId": "4a61d375-8841-4f26-a8bd-c2ef59b88aa3"
      },
      "outputs": [],
      "source": [
        "x_scaled = StandardScaler().fit_transform(df[[\"x\"]])\n",
        "print(x_scaled)"
      ]
    },
    {
      "cell_type": "markdown",
      "metadata": {
        "id": "QJymuo3jJwgP"
      },
      "source": [
        "Fit logit object with scaled x values and the results found in column y"
      ]
    },
    {
      "cell_type": "code",
      "execution_count": null,
      "metadata": {
        "colab": {
          "base_uri": "https://localhost:8080/",
          "height": 74
        },
        "id": "U9-66kX58Tqg",
        "outputId": "68336281-dffa-4803-e5de-42c9439c8b67"
      },
      "outputs": [],
      "source": [
        "logit.fit(x_scaled, df[\"y\"])"
      ]
    },
    {
      "cell_type": "markdown",
      "metadata": {},
      "source": [
        "Determine probabilities for each record from logistic regression results"
      ]
    },
    {
      "cell_type": "code",
      "execution_count": null,
      "metadata": {},
      "outputs": [],
      "source": [
        "logit.predict_proba(x_scaled)"
      ]
    },
    {
      "cell_type": "markdown",
      "metadata": {
        "id": "jvd-hsO7J1iK"
      },
      "source": [
        "Calculate probabilities from 2nd item in each results from calling predict_proba from logit object"
      ]
    },
    {
      "cell_type": "code",
      "execution_count": null,
      "metadata": {
        "colab": {
          "base_uri": "https://localhost:8080/"
        },
        "id": "kUKYyEr16sqm",
        "outputId": "94e075d7-9c5d-4526-a482-b098c10f96b1"
      },
      "outputs": [],
      "source": [
        "p = [i[1] for i in logit.predict_proba(x_scaled)]\n",
        "print(p)"
      ]
    },
    {
      "cell_type": "markdown",
      "metadata": {
        "id": "2hiC6tHeJ_VP"
      },
      "source": [
        "Assign probability field in DataFrame object to the values from the probabilities calculated and"
      ]
    },
    {
      "cell_type": "code",
      "execution_count": null,
      "metadata": {
        "colab": {
          "base_uri": "https://localhost:8080/",
          "height": 363
        },
        "id": "e9LFfmPA6vLo",
        "outputId": "3f2c8968-0b2b-4c88-a733-2ea1e18845e8"
      },
      "outputs": [],
      "source": [
        "df = df.assign(probability = p)\n",
        "df.head(10)"
      ]
    }
  ],
  "metadata": {
    "colab": {
      "provenance": []
    },
    "kernelspec": {
      "display_name": "Python 3",
      "name": "python3"
    },
    "language_info": {
      "codemirror_mode": {
        "name": "ipython",
        "version": 3
      },
      "file_extension": ".py",
      "mimetype": "text/x-python",
      "name": "python",
      "nbconvert_exporter": "python",
      "pygments_lexer": "ipython3",
      "version": "3.10.12"
    }
  },
  "nbformat": 4,
  "nbformat_minor": 0
}
