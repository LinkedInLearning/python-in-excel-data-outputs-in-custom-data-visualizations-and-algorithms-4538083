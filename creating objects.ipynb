{
  "cells": [
    {
      "cell_type": "markdown",
      "metadata": {
        "id": "nhpKatpo0xy5"
      },
      "source": [
        "import Python libraries first"
      ]
    },
    {
      "cell_type": "code",
      "execution_count": null,
      "metadata": {},
      "outputs": [],
      "source": [
        "%pip install pandas\n",
        "%pip install numpy"
      ]
    },
    {
      "cell_type": "code",
      "execution_count": null,
      "metadata": {
        "id": "QXuuc6M30VU2"
      },
      "outputs": [],
      "source": [
        "import pandas as pd\n",
        "import numpy as np"
      ]
    },
    {
      "cell_type": "markdown",
      "metadata": {
        "id": "9MPonIk61HRN"
      },
      "source": [
        "# ETL framework"
      ]
    },
    {
      "cell_type": "markdown",
      "metadata": {
        "id": "dsRmvwXs1J-m"
      },
      "source": [
        "## Extract"
      ]
    },
    {
      "cell_type": "markdown",
      "metadata": {
        "id": "TLukDlCg1VLc"
      },
      "source": [
        " Santa Barbara Airport weather data comes from NOAA FTP folders"
      ]
    },
    {
      "cell_type": "code",
      "execution_count": null,
      "metadata": {
        "id": "D05uyPHe0YVt"
      },
      "outputs": [],
      "source": [
        "url = \"https://www1.ncdc.noaa.gov/pub/data/ghcn/daily/by_station/USW00023190.csv.gz\"\n",
        "df = pd.read_csv(url,\n",
        "                 compression = 'gzip',\n",
        "                 names = ['station','date','datatype','value','U1','U2','U3','U4'],\n",
        "                 low_memory = False)"
      ]
    },
    {
      "cell_type": "markdown",
      "metadata": {
        "id": "wGbkIQ1W1X0z"
      },
      "source": [
        "## Transform"
      ]
    },
    {
      "cell_type": "markdown",
      "metadata": {
        "id": "G4HDZCKa1cSJ"
      },
      "source": [
        "Make df DataFrame object into a useable data table"
      ]
    },
    {
      "cell_type": "code",
      "execution_count": null,
      "metadata": {
        "id": "PDdIEnSi1iBm"
      },
      "outputs": [],
      "source": [
        "df[\"date\"] = pd.to_datetime(df[\"date\"].astype(str))\n",
        "df = df.loc[(df[\"datatype\"].isin([\"TMIN\",\"TMAX\"])) \n",
        "            & (df[\"date\"] >= \"1970-01-01\"), [\"date\", \"datatype\", \"value\"]]\n",
        "df[\"value\"] = np.round(np.array(df[\"value\"])/10 * 1.8 + 32, 0)\n",
        "df = df.pivot(index = \"date\", \n",
        "              columns = \"datatype\", \n",
        "              values = \"value\") \\\n",
        "                .dropna().rename_axis(None, axis = 1). \\\n",
        "                  reset_index(inplace = False)\n",
        "df[\"TAVG\"] = (df[\"TMIN\"] + df[\"TMAX\"]) / 2\n",
        "df = df.rename(columns = {\"date\": \"Date\", \n",
        "                          \"TMAX\": \"High Temperature\", \n",
        "                          \"TMIN\": \"Low Temperature\", \n",
        "                          \"TAVG\": \"Average Temperature\"})"
      ]
    },
    {
      "cell_type": "markdown",
      "metadata": {
        "id": "utLtqaH72Hut"
      },
      "source": [
        "# Excel translations start here"
      ]
    },
    {
      "cell_type": "markdown",
      "metadata": {
        "id": "XAGy_6DL2YMO"
      },
      "source": [
        "Analyze transformed DataFrame object variable df"
      ]
    },
    {
      "cell_type": "markdown",
      "metadata": {
        "id": "wm5MI5zW2bwK"
      },
      "source": [
        "Get first 5 rows"
      ]
    },
    {
      "cell_type": "code",
      "execution_count": null,
      "metadata": {
        "colab": {
          "base_uri": "https://localhost:8080/",
          "height": 206
        },
        "id": "AvdlIik50ImW",
        "outputId": "a1e76214-4692-435a-927b-32e9abae9e20"
      },
      "outputs": [],
      "source": [
        "df.head()"
      ]
    },
    {
      "cell_type": "markdown",
      "metadata": {
        "id": "cu4D0Sur2jgA"
      },
      "source": [
        "Get last 1000 rows"
      ]
    },
    {
      "cell_type": "code",
      "execution_count": null,
      "metadata": {
        "colab": {
          "base_uri": "https://localhost:8080/",
          "height": 423
        },
        "id": "47Et9CVW0pyb",
        "outputId": "789c1256-5406-45f0-9741-6f6bb2653d5d"
      },
      "outputs": [],
      "source": [
        "df.tail(1000)"
      ]
    },
    {
      "cell_type": "markdown",
      "metadata": {
        "id": "appYQM8F2lZp"
      },
      "source": [
        "Determine dimensions (number of rows and columns)"
      ]
    },
    {
      "cell_type": "code",
      "execution_count": null,
      "metadata": {
        "colab": {
          "base_uri": "https://localhost:8080/"
        },
        "id": "_Z8TShVc0khX",
        "outputId": "9e0faf34-337b-4713-b9c2-909a46a99ac7"
      },
      "outputs": [],
      "source": [
        "df.shape"
      ]
    },
    {
      "cell_type": "markdown",
      "metadata": {
        "id": "Pq9VFAt52oRo"
      },
      "source": [
        "Get column names"
      ]
    },
    {
      "cell_type": "code",
      "execution_count": null,
      "metadata": {
        "colab": {
          "base_uri": "https://localhost:8080/"
        },
        "id": "A7Pa2yck0l1Z",
        "outputId": "edc3874f-0b6b-482f-cc6f-404f64b057c2"
      },
      "outputs": [],
      "source": [
        "df.columns"
      ]
    },
    {
      "cell_type": "markdown",
      "metadata": {
        "id": "QuEuafI02pxe"
      },
      "source": [
        "Get data types for each column"
      ]
    },
    {
      "cell_type": "code",
      "execution_count": null,
      "metadata": {
        "colab": {
          "base_uri": "https://localhost:8080/"
        },
        "id": "QxBeJKDT0n3W",
        "outputId": "b43f0b3d-e502-4082-fe05-b677b63423c9"
      },
      "outputs": [],
      "source": [
        "df.dtypes"
      ]
    }
  ],
  "metadata": {
    "colab": {
      "provenance": []
    },
    "kernelspec": {
      "display_name": "Python 3",
      "name": "python3"
    },
    "language_info": {
      "codemirror_mode": {
        "name": "ipython",
        "version": 3
      },
      "file_extension": ".py",
      "mimetype": "text/x-python",
      "name": "python",
      "nbconvert_exporter": "python",
      "pygments_lexer": "ipython3",
      "version": "3.10.12"
    }
  },
  "nbformat": 4,
  "nbformat_minor": 0
}
