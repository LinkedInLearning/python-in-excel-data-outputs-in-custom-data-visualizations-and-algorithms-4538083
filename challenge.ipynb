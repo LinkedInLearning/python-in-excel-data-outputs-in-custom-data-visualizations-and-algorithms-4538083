{
  "cells": [
    {
      "cell_type": "markdown",
      "metadata": {},
      "source": [
        "Install libraries"
      ]
    },
    {
      "cell_type": "code",
      "execution_count": null,
      "metadata": {
        "metadata": {}
      },
      "outputs": [],
      "source": [
        "%pip install requests\n",
        "%pip install pandas\n",
        "%pip install numpy\n",
        "%pip install scikit-learn\n",
        "%pip install statstools\n",
        "%pip install matplotlib"
      ]
    },
    {
      "cell_type": "code",
      "execution_count": null,
      "metadata": {
        "id": "mVR2OAylRIVQ",
        "metadata": {}
      },
      "outputs": [],
      "source": [
        "import requests\n",
        "import pandas as pd\n",
        "import numpy as np\n",
        "from sklearn.cluster import DBSCAN"
      ]
    },
    {
      "cell_type": "markdown",
      "metadata": {},
      "source": [
        "Get hourly weather data with ETL framework"
      ]
    },
    {
      "cell_type": "code",
      "execution_count": null,
      "metadata": {
        "colab": {
          "base_uri": "https://localhost:8080/",
          "height": 863
        },
        "id": "rXB0zpVHRnUr",
        "metadata": {},
        "outputId": "0abae0ba-e9f5-4599-de64-2d68db89a542"
      },
      "outputs": [],
      "source": [
        "parameters = {\"ids\": \"KSBA\",\n",
        "              \"format\": \"json\",\n",
        "              \"taf\": \"false\",\n",
        "              \"hours\": 1000}\n",
        "url = \"https://aviationweather.gov/api/data/metar\"\n",
        "data = requests.get(url, params = parameters).json()\n",
        "df = pd.json_normalize(data)\n",
        "df.head()"
      ]
    },
    {
      "cell_type": "markdown",
      "metadata": {},
      "source": [
        "Convert observation time and temperature into UTC and Fahrenheit units"
      ]
    },
    {
      "cell_type": "code",
      "execution_count": null,
      "metadata": {
        "colab": {
          "base_uri": "https://localhost:8080/",
          "height": 863
        },
        "id": "ejMhCKb2TmuO",
        "metadata": {},
        "outputId": "16c9e62e-e809-4c47-dcde-5ac255047304"
      },
      "outputs": [],
      "source": [
        "df[\"UTC\"] = pd.to_datetime(df[\"obsTime\"], unit = \"s\")\n",
        "df[\"Temperature\"] = np.round(np.array(df[\"temp\"])*1.8 + 32, 0)\n",
        "df = df.drop([\"clouds\",\"obsTime\",\"temp\"], axis = 1)\n",
        "df.head()"
      ]
    },
    {
      "cell_type": "code",
      "execution_count": null,
      "metadata": {},
      "outputs": [],
      "source": [
        "x = np.array(df[\"Temperature\"]).reshape(-1, 1)"
      ]
    },
    {
      "cell_type": "code",
      "execution_count": null,
      "metadata": {},
      "outputs": [],
      "source": [
        "clusters = DBSCAN(eps=1, min_samples=12).fit_predict(x)\n",
        "print(clusters)"
      ]
    },
    {
      "cell_type": "code",
      "execution_count": null,
      "metadata": {},
      "outputs": [],
      "source": [
        "df = df[[\"UTC\",\"Temperature\"]].assign(Anomaly = clusters)"
      ]
    },
    {
      "cell_type": "code",
      "execution_count": null,
      "metadata": {},
      "outputs": [],
      "source": [
        "df.head()"
      ]
    },
    {
      "cell_type": "code",
      "execution_count": null,
      "metadata": {},
      "outputs": [],
      "source": [
        "df.loc[(df[\"Anomaly\"] == -1),:]"
      ]
    },
    {
      "cell_type": "markdown",
      "metadata": {},
      "source": [
        "# Time Series Decomposition"
      ]
    }
  ],
  "metadata": {
    "colab": {
      "provenance": []
    },
    "kernelspec": {
      "display_name": "Python 3",
      "name": "python3"
    },
    "language_info": {
      "codemirror_mode": {
        "name": "ipython",
        "version": 3
      },
      "file_extension": ".py",
      "mimetype": "text/x-python",
      "name": "python",
      "nbconvert_exporter": "python",
      "pygments_lexer": "ipython3",
      "version": "3.10.12"
    }
  },
  "nbformat": 4,
  "nbformat_minor": 0
}
