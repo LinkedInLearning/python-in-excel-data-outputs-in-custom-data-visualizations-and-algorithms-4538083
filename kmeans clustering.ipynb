{
  "cells": [
    {
      "cell_type": "code",
      "execution_count": null,
      "metadata": {
        "id": "3OldQDeJLSPo"
      },
      "outputs": [],
      "source": [
        "%pip install pandas\n",
        "%pip install numpy\n",
        "%pip install scikit-learn"
      ]
    },
    {
      "cell_type": "code",
      "execution_count": null,
      "metadata": {
        "id": "hzcf_JzNKdbJ"
      },
      "outputs": [],
      "source": [
        "import pandas as pd\n",
        "import numpy as np\n",
        "from sklearn.cluster import KMeans"
      ]
    },
    {
      "cell_type": "markdown",
      "metadata": {
        "id": "GkBMTrD7E1tK"
      },
      "source": [
        "# Create DataFrame"
      ]
    },
    {
      "cell_type": "markdown",
      "metadata": {},
      "source": [
        "ETL framework to get daily temperatures for Santa Barbara airport"
      ]
    },
    {
      "cell_type": "code",
      "execution_count": null,
      "metadata": {
        "id": "tBRmfzI5E2zG"
      },
      "outputs": [],
      "source": [
        "df = pd.read_csv(\"https://www1.ncdc.noaa.gov/pub/data/ghcn/daily/by_station/USW00023190.csv.gz\",\n",
        "                 compression = 'gzip',\n",
        "                 names = ['station','date','datatype','value','U1','U2','U3','U4'],\n",
        "                 low_memory = False)\n",
        "\n",
        "df[\"date\"] = pd.to_datetime(df[\"date\"].astype(str))\n",
        "df = df.loc[(df[\"datatype\"].isin([\"TMIN\",\"TMAX\",\"PRCP\"])) & (df[\"date\"] >= \"1970-01-01\"), [\"date\", \"datatype\", \"value\"]]\n",
        "df[\"value\"] = np.where(np.array(df[\"datatype\"]) == \"PRCP\", np.round(np.array(df[\"value\"])/100/2.54, 2), np.round(np.array(df[\"value\"])/10 * 1.8 + 32, 0))\n",
        "df = df.pivot(index = \"date\", columns = \"datatype\", values = \"value\").dropna().rename_axis(None, axis = 1).reset_index(inplace = False)\n",
        "df[\"TAVG\"] = (df[\"TMIN\"] + df[\"TMAX\"]) / 2\n",
        "df = df.rename(columns = {\"date\": \"Date\", \"TMAX\": \"High Temperature\", \"TMIN\": \"Low Temperature\", \"TAVG\": \"Average Temperature\", \"PRCP\": \"Rainfall\"})"
      ]
    },
    {
      "cell_type": "code",
      "execution_count": null,
      "metadata": {},
      "outputs": [],
      "source": [
        "df = df[[\"Date\",\"High Temperature\",\"Low Temperature\"]]"
      ]
    },
    {
      "cell_type": "markdown",
      "metadata": {},
      "source": [
        "# KMeans clustering"
      ]
    },
    {
      "cell_type": "markdown",
      "metadata": {},
      "source": [
        "Create list object to store data to use in clustering algorithm"
      ]
    },
    {
      "cell_type": "code",
      "execution_count": null,
      "metadata": {
        "id": "zI8KZrNnF3hF"
      },
      "outputs": [],
      "source": [
        "data = list(zip(df[\"Low Temperature\"].tolist(), df[\"High Temperature\"].tolist()))"
      ]
    },
    {
      "cell_type": "markdown",
      "metadata": {},
      "source": [
        "Initialize KMeans"
      ]
    },
    {
      "cell_type": "code",
      "execution_count": null,
      "metadata": {
        "id": "AqX4Gq6lFs2c"
      },
      "outputs": [],
      "source": [
        "kmeans = KMeans(n_clusters = 2)"
      ]
    },
    {
      "cell_type": "markdown",
      "metadata": {},
      "source": [
        "Fit KMeans with data"
      ]
    },
    {
      "cell_type": "code",
      "execution_count": null,
      "metadata": {
        "colab": {
          "base_uri": "https://localhost:8080/",
          "height": 129
        },
        "id": "-aqdpgm3FuR2",
        "outputId": "26a3dd9c-f833-4658-da54-6d2129a0e672"
      },
      "outputs": [],
      "source": [
        "kmeans.fit(data)"
      ]
    },
    {
      "cell_type": "markdown",
      "metadata": {},
      "source": [
        "Determine label for each data point"
      ]
    },
    {
      "cell_type": "code",
      "execution_count": null,
      "metadata": {
        "colab": {
          "base_uri": "https://localhost:8080/"
        },
        "id": "IJzGehWZFwNf",
        "outputId": "eef7d734-57d2-4960-f1e1-7527ab706e0a"
      },
      "outputs": [],
      "source": [
        "kmeans.labels_"
      ]
    },
    {
      "cell_type": "markdown",
      "metadata": {},
      "source": [
        "Find assign each data point to one of k cluster from KMeans algorithm output"
      ]
    },
    {
      "cell_type": "code",
      "execution_count": null,
      "metadata": {},
      "outputs": [],
      "source": [
        "df = df.assign(cluster = kmeans.labels_)\n",
        "df.tail(1000)"
      ]
    }
  ],
  "metadata": {
    "colab": {
      "provenance": []
    },
    "kernelspec": {
      "display_name": "Python 3",
      "name": "python3"
    },
    "language_info": {
      "codemirror_mode": {
        "name": "ipython",
        "version": 3
      },
      "file_extension": ".py",
      "mimetype": "text/x-python",
      "name": "python",
      "nbconvert_exporter": "python",
      "pygments_lexer": "ipython3",
      "version": "3.10.12"
    }
  },
  "nbformat": 4,
  "nbformat_minor": 0
}
